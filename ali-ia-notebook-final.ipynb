{
 "cells": [
  {
   "cell_type": "code",
   "execution_count": 1,
   "metadata": {},
   "outputs": [],
   "source": [
    "import scipy\n",
    "from scipy.special import jn, jn_zeros\n",
    "from scipy.interpolate import interp1d\n",
    "from scipy.optimize import curve_fit\n",
    "from scipy.special import eval_legendre as legendre\n",
    "\n",
    "from astropy.cosmology import Planck15\n",
    "import astropy.units as u\n",
    "\n",
    "from power_spectra import * \n",
    "from projected_corr_rsd import *\n",
    "from wigner_functions import wigner_d\n",
    "from wigner_functions import associated_legendre as aLegendre\n",
    "\n",
    "import numpy as np\n",
    "import pandas as pd\n",
    "\n",
    "import matplotlib as mpl\n",
    "from matplotlib import pyplot as plt\n",
    "\n",
    "from scipy.stats import linregress as linreg\n",
    "\n",
    "%matplotlib inline"
   ]
  },
  {
   "cell_type": "code",
   "execution_count": 2,
   "metadata": {},
   "outputs": [],
   "source": [
    "from wigner_functions import associated_legendre"
   ]
  },
  {
   "cell_type": "code",
   "execution_count": 3,
   "metadata": {},
   "outputs": [],
   "source": [
    "import warnings\n",
    "warnings.filterwarnings('ignore')"
   ]
  },
  {
   "cell_type": "markdown",
   "metadata": {},
   "source": [
    "## Reading Simulation Data"
   ]
  },
  {
   "cell_type": "code",
   "execution_count": 4,
   "metadata": {},
   "outputs": [
    {
     "name": "stdout",
     "output_type": "stream",
     "text": [
      "%pylab is deprecated, use %matplotlib inline and import the required libraries.\n",
      "Populating the interactive namespace from numpy and matplotlib\n"
     ]
    }
   ],
   "source": [
    "%pylab inline\n",
    "\n",
    "ignore_keys=['rp','r','jk','cov','corr','jk_err','jkerr','data','data0']\n",
    "class cov_corr():\n",
    "    def mean_calc(self,data=[],axis=1):\n",
    "        return np.mean(data,axis)\n",
    "\n",
    "    def var_calc(self,data=[],axis=1):\n",
    "        return np.var(data,axis)\n",
    "\n",
    "    def residual_calc(self,data=[],axis=1): #calculate residual that go into cov calculation, y-E(y)\n",
    "        mean=self.mean_calc(data,axis)\n",
    "        dim0=len(mean)\n",
    "        dim1=np.shape(data)[axis]\n",
    "        #print dim0,dim1,axis\n",
    "# since mean is always 1-d array, [mean]*dim1 always give matrix [dim0 X dim1]...\n",
    "#hence depending on dimension of data may need to transpose to get correct residuals\n",
    "        try:\n",
    "            res=data-np.transpose([mean]*dim1)\n",
    "            print (\"transpose\")\n",
    "        except:\n",
    "            res=data-[mean]*dim1\n",
    "        return res\n",
    "\n",
    "    def cov_matrix2(self,data=[],axis=1,ddof=0):\n",
    "        return np.cov(data,rowvar=axis)\n",
    "\n",
    "    def cov_matrix(self,data=[],axis=1,ddof=0):\n",
    "        #return np.cov(data,rowvar=axis,ddof=1) #ddof=0 for correct variance\n",
    "        mean=self.mean_calc(data,axis)\n",
    "        dim0=len(mean)\n",
    "        dim1=np.shape(data)[axis]\n",
    "        res=self.residual_calc(data=data,axis=axis)\n",
    "        cov=np.zeros((dim0,dim0))\n",
    "        if len(res[0])!=dim1:\n",
    "            res=np.transpose(res)#residual has dimension of data..\n",
    "                                #depending on axis value, may need to transpose for correct covariance\n",
    "        for i in np.arange(dim0):\n",
    "            for j in np.arange(dim0):\n",
    "                cov[i][j]+=np.sum(res[i]*res[j])\n",
    "        cov/=np.float64(dim1-ddof)\n",
    "        return cov\n",
    "\n",
    "    def cross_cov_matrix2(self,data1=[],data2=[],axis=1,ddof=0):\n",
    "        cross_cov=np.cov(data1,data2,rowvar=axis)\n",
    "        N1=len(data1[0])\n",
    "        N2=len(data2[0])\n",
    "        cov2=np.zeros((N1,N2))\n",
    "        for i in np.arange(N1):\n",
    "            for j in np.arange(N2):\n",
    "                cov2[i][j]=cross_cov[i+N1][j]\n",
    "        return cov2\n",
    "\n",
    "    def cross_cov_matrix(self,data1=[],data2=[],axis=1,ddof=0):\n",
    "    #return np.cov(data,rowvar=axis,ddof=1) #ddof=0 for correct variance\n",
    "        mean1=self.mean_calc(data1,axis)\n",
    "        mean2=self.mean_calc(data2,axis)\n",
    "        dim0=len(mean1)\n",
    "        dim2=len(mean2)\n",
    "        dim1=np.shape(data1)[axis]\n",
    "        res1=self.residual_calc(data=data1,axis=axis)\n",
    "        res2=self.residual_calc(data=data2,axis=axis)\n",
    "        cov=np.zeros((dim0,dim2))\n",
    "        if dim0!=dim2:\n",
    "            print ('cross cov: dimensions of data 1 and data2 not equal')\n",
    "        if len(res1[0])!=dim1:\n",
    "            res2=np.transpose(res2)\n",
    "            res1=np.transpose(res1)#residual has dimension of data..\n",
    "                            #depending on axis value, may need to transpose for correct covariance\n",
    "        for i in np.arange(dim0):\n",
    "            for j in np.arange(dim2):\n",
    "                cov[i][j]+=np.sum(res1[i]*res2[j])\n",
    "        cov/=np.float64(dim1-ddof)\n",
    "        return cov\n",
    "\n",
    "    #for some reason numpy covariance matrix has some constant multiplied to it..\n",
    "    #seems to be some func of N but can't figure it out.\n",
    "    #this func returns that constants value by comparing it with variance\n",
    "    def var_cov_comparison(self,var=[],cov=[]):\n",
    "        l=len(cov[0])\n",
    "        v2=np.zeros_like(var)\n",
    "        for i in np.arange(l):\n",
    "            v2[i]=cov[i][i]\n",
    "        r=var/v2\n",
    "        x=r==r[0]\n",
    "        if sum(x)<l:\n",
    "            print (\"variance-covariance miss match\") #return full ratio array in case r is not constant\n",
    "            return r  #note comparison can be easily fooled due to floating point error\n",
    "        return [r[0]]\n",
    "\n",
    "    def corr_matrix(self,cov_mat=[]): #correlation matrix\n",
    "        diag=np.diag(cov_mat)\n",
    "        return cov_mat/np.sqrt(np.outer(diag,diag))\n",
    "        # dim=len(cov_mat[0])\n",
    "        # var=np.zeros(dim)\n",
    "        # corr=np.zeros((dim,dim))\n",
    "        # for i in np.arange(dim):\n",
    "        #     var[i]=cov_mat[i][i]\n",
    "        # for i in np.arange(dim):\n",
    "        #     for j in np.arange(dim):\n",
    "        #         corr[i][j]=cov_mat[i][j]/np.sqrt(var[i]*var[j])\n",
    "        # return corr\n",
    "\n",
    "    def cross_corr_matrix(self,cov_mat=[],data1=[],data2=[],axis=1): #correlation matrix\n",
    "        dim=len(cov_mat[0])\n",
    "        var1=self.var_calc(data1,axis)\n",
    "        var2=self.var_calc(data2,axis)\n",
    "        corr=np.zeros((dim,dim))\n",
    "#        for i in np.arange(dim):\n",
    " #           var[i]=cov_mat[i][i]\n",
    "        for i in np.arange(dim):\n",
    "            for j in np.arange(dim):\n",
    "                corr[i][j]=cov_mat[i][j]/np.sqrt(var1[i]*var2[j])\n",
    "        return corr\n",
    "\n",
    "    #stack column from various dictionary elements to get a data matrix which goes into covariance calculations\n",
    "    #incase dict elements have several columns, var defines the column to be used. better to have named columns\n",
    "    def dict_stack(self,dic={},var='',ignore_keys=ignore_keys):\n",
    "        keys=dic.keys()\n",
    "        j=0\n",
    "        mat=[]\n",
    "        axis=0\n",
    "        for i in keys:\n",
    "            if i in ignore_keys:\n",
    "                #print 'cov_corr.dict_stack::',i,'ignored in stacking'\n",
    "                continue\n",
    "            if j==0:\n",
    "                if not check_empty(var):\n",
    "                    mat=dic[i][var]\n",
    "                else:\n",
    "                    mat=dic[i]#[:]\n",
    "                j=j+1\n",
    "                continue\n",
    "            if not check_empty(var):\n",
    "                mat=np.vstack((mat,dic[i][var]))\n",
    "            else:\n",
    "                mat=np.vstack((mat,dic[i]))#dic[i][:]\n",
    "                \n",
    "        #print(mat)\n",
    "        return mat,axis\n",
    "\n",
    "\n",
    "    def dict_cov(self,dic={},var='',stack=0,axis=0,ddof=0,ignore_keys=ignore_keys):\n",
    "        if stack!=0:\n",
    "            #print \"cov_corr: Stacking dictionary\"\n",
    "            mat,axis=self.dict_stack(dic=dic,var=var,ignore_keys=ignore_keys)\n",
    "            #print \"cov_corr: dictionary stacked\"\n",
    "        if stack==0:\n",
    "            #print \"no stacking:\",var,axis\n",
    "            mat=dic[var]\n",
    "            axis=axis\n",
    "        cov=self.cov_matrix2(data=mat,axis=axis,ddof=ddof)\n",
    "        #print cov.shape\n",
    "        corr=self.corr_matrix(cov)\n",
    "        return cov,corr\n",
    "\n",
    "\n",
    "    def dict_cross_cov(self,dic={},dic2={},var1='',var2='',stack=0,axis=0,ddof=0):\n",
    "        if stack!=0:\n",
    "            #print \"cov_corr: Stacking dictionary\"\n",
    "            mat1,axis=self.dict_stack(dic=dic,var=var1)\n",
    "            if dic2:\n",
    "                mat2,axis=self.dict_stack(dic=dic2,var=var2)\n",
    "            else:\n",
    "                mat2,axis=self.dict_stack(dic=dic,var=var2)\n",
    "        if stack==0:\n",
    "            #print \"no stacking:\",var,axis\n",
    "            mat1=dic[var1]\n",
    "            if dic2:\n",
    "                mat2=dic2[var2]\n",
    "            else:\n",
    "                mat2=dic[var2]\n",
    "            axis=axis\n",
    "        cov=self.cross_cov_matrix2(data1=mat1,data2=mat2,axis=axis,ddof=ddof)\n",
    "        corr=self.cross_corr_matrix(cov_mat=cov,data1=mat1,data2=mat2,axis=axis)\n",
    "        return cov,corr\n",
    "\n",
    "    def matrix_diagonalize(self,m=[]):\n",
    "        N1=len(m)\n",
    "        N2=len(m[0])\n",
    "        for i in np.arange(N1):\n",
    "            for j in np.arange(N2):\n",
    "                if i==j:\n",
    "                    continue\n",
    "                m[i][j]=0\n",
    "        return m\n",
    "\n",
    "    def mat_inv(self,m=[]):\n",
    "        return np.linalg.inv(m)\n",
    "\n",
    "    def matrix_cut(self,mat=[],x=[]):\n",
    "        m=mat[x]\n",
    "        N=sum(x)\n",
    "        m2=np.zeros((N,N))\n",
    "        j=0\n",
    "        for i in m:\n",
    "            m2[j]=i[x]\n",
    "            j=j+1\n",
    "        return m2\n",
    "\n",
    "    def chi_sq(self,theory=[],data=[],x=None,cov=[]):\n",
    "        if x:\n",
    "            data=data[x]\n",
    "            theory=theory[x]\n",
    "            cov=self.matrix_cut(mat=cov,x=x)\n",
    "        cov_inv=self.mat_inv(m=cov)\n",
    "        #print data.shape,theory.shape,cov.shape,cov_inv.shape\n",
    "        N=len(data)\n",
    "        chi_sq=0\n",
    "        for i in np.arange(N):\n",
    "            for j in np.arange(N):\n",
    "                chi_sq+=((data[i]-theory[i])*(data[j]-theory[j])*(cov_inv[i][j]))\n",
    "        #chi_sq/=2.\n",
    "        return chi_sq,N\n"
   ]
  },
  {
   "cell_type": "code",
   "execution_count": 5,
   "metadata": {},
   "outputs": [],
   "source": [
    "def jk_read(dataset='',var=None,njk=100,auto_cross='_cross',bins='_bins',\n",
    "            home='',corr='_final',skiprows=0,**kwargs):\n",
    "    data_jk={}\n",
    "    filename=dataset\n",
    "    try:\n",
    "        data_jk['data']=np.genfromtxt(home+filename+bins+auto_cross+'_jk_final.dat',\n",
    "                                      names=True,skip_header=skiprows)\n",
    "        #print(home+filename+bins+auto_cross+'_jk_final.dat')\n",
    "    except:\n",
    "        print ('file not found')\n",
    "    try:\n",
    "        data_jk['data0']=np.genfromtxt(home+filename+bins+auto_cross+corr+'.dat',\n",
    "                                       names=True,skip_header=skiprows)\n",
    "    except:\n",
    "        print ('file not found',home+filename+bins+auto_cross+corr+'.dat')\n",
    "    for i in np.arange(njk):\n",
    "        data_jk[i]=np.genfromtxt(home+filename+bins+auto_cross+'_jk'+str(i)+corr+'.dat',names=True,\n",
    "                                 skip_header=skiprows)\n",
    "    cc=cov_corr()\n",
    "    if var and njk>0:\n",
    "        data_jk['cov']={}\n",
    "        data_jk['corr']={}\n",
    "        for v in var:\n",
    "            cov,corr=cc.dict_cov(dic=data_jk,var=v,stack=1,ignore_keys=['data','data0','cov','corr'])\n",
    "            cov*=njk-1.\n",
    "            data_jk['cov'][v]=cov\n",
    "            data_jk['corr'][v]=corr\n",
    "    return data_jk\n"
   ]
  },
  {
   "cell_type": "code",
   "execution_count": 6,
   "metadata": {},
   "outputs": [
    {
     "data": {
      "text/plain": [
       "('/hildafs/home/amshakir/corr_pc/corr_pc/temp/ia_project/no_rsd_rp_pi/corr_data_out/',\n",
       " 'data_no_rsd_rp_pi')"
      ]
     },
     "execution_count": 6,
     "metadata": {},
     "output_type": "execute_result"
    }
   ],
   "source": [
    "file_dir_cross = '/hildafs/home/amshakir/corr_pc/corr_pc/temp/ia_project/'\n",
    "file_dir_auto = '/hildafs/home/amshakir/corr_pc/corr_pc/temp/ia_project/density_auto/'\n",
    "\n",
    "def get_path(file_dir, rsd=False, coords=6):\n",
    "    \n",
    "    path = ''\n",
    "    \n",
    "    if rsd: path += 'rsd_'\n",
    "    else: path += 'no_rsd_'\n",
    "        \n",
    "    if coords == 6: path += 'rp_pi'\n",
    "    else: path += 'r_mu'\n",
    "        \n",
    "    return file_dir+path+'/corr_data_out/'\n",
    "\n",
    "def get_name(rsd=False, coords=6):\n",
    "    \n",
    "    name = 'data_'\n",
    "    \n",
    "    if rsd: name += 'rsd_'\n",
    "    else: name += 'no_rsd_'\n",
    "        \n",
    "    if coords == 6: name += 'rp_pi'\n",
    "    else: name += 'r_mu'\n",
    "        \n",
    "    return name\n",
    "\n",
    "get_path(file_dir_cross, rsd=False, coords=6), get_name(rsd=False, coords=6)"
   ]
  },
  {
   "cell_type": "code",
   "execution_count": 7,
   "metadata": {},
   "outputs": [],
   "source": [
    "njk=49"
   ]
  },
  {
   "cell_type": "code",
   "execution_count": 8,
   "metadata": {},
   "outputs": [],
   "source": [
    "def check_empty(arr): # True is empty\n",
    "    try:\n",
    "        #print not arr.any()\n",
    "        try:\n",
    "            return not arr.any()\n",
    "        except:\n",
    "            if arr.size!=0: #for rec array\n",
    "                return False\n",
    "            else:\n",
    "                return True\n",
    "    except:\n",
    "        #print not bool(arr)\n",
    "        return not bool(arr) #for other python types, including dictionary"
   ]
  },
  {
   "cell_type": "code",
   "execution_count": 9,
   "metadata": {},
   "outputs": [],
   "source": [
    "def series2grid(series, shape):\n",
    "    return series.to_numpy().reshape(shape)"
   ]
  },
  {
   "cell_type": "code",
   "execution_count": 10,
   "metadata": {},
   "outputs": [],
   "source": [
    "def read_output(home, var=['wgg'], bins2D=False, rsd=False, coords=6):\n",
    "    bins = '_bins2D' if bins2D else '_bins'\n",
    "    name = get_name(rsd=rsd, coords=coords)\n",
    "    # print(name)\n",
    "    return jk_read(dataset=name, var=var,njk=njk, bins=bins, home=get_path(home, rsd=rsd, coords=coords))"
   ]
  },
  {
   "cell_type": "code",
   "execution_count": 11,
   "metadata": {},
   "outputs": [],
   "source": [
    "def read_output_manual(file_path, file_name, var=['wgg, wgp'], bins2D=False):\n",
    "    bins = '_bins2D' if bins2D else '_bins'\n",
    "    return jk_read(dataset=file_name, var=var, njk=njk, bins=bins, home=file_path)"
   ]
  },
  {
   "cell_type": "markdown",
   "metadata": {},
   "source": [
    "## Setup"
   ]
  },
  {
   "cell_type": "code",
   "execution_count": 12,
   "metadata": {},
   "outputs": [],
   "source": [
    "def taper(k=[],pk=[],large_k_lower=10,large_k_upper=30,low_k_lower=1.e-4,low_k_upper=1.e-3):\n",
    "    pk_out=np.copy(pk)\n",
    "    x=k>large_k_lower\n",
    "    pk_out[x]*=np.cos((k[x]-large_k_lower)/(large_k_upper-large_k_lower)*np.pi/2.)\n",
    "    x=k>large_k_upper\n",
    "    pk_out[x]=0\n",
    "    x=k<low_k_upper\n",
    "    pk_out[x]*=np.cos((k[x]-low_k_upper)/(low_k_upper-low_k_lower)*np.pi/2.)\n",
    "    x=k<low_k_lower\n",
    "    pk_out[x]=0\n",
    "    return pk_out"
   ]
  },
  {
   "cell_type": "code",
   "execution_count": 13,
   "metadata": {},
   "outputs": [],
   "source": [
    "def DZ_int(z=[0],cosmo=None,rtol=1.e-4,tol=1.e-5): #linear growth factor.. full integral.. eq 63 in Lahav and suto\n",
    "        Ez_func=cosmo.efunc\n",
    "        def intf(z):\n",
    "            return (1.+z)/(cosmo.H(z=z).value**3)\n",
    "        dz=np.zeros_like(z,dtype='float32')\n",
    "        inf=np.inf\n",
    "        j=0\n",
    "        for i in z:\n",
    "            dz[j]+=cosmo.H(i).value*scipy_int1d(intf,i,inf,epsrel=rtol,epsabs=tol)[0]\n",
    "            j=j+1\n",
    "        dz=dz*2.5*cosmo.Om0*cosmo.H0**2\n",
    "        return dz/dz[0] #check for normalization"
   ]
  },
  {
   "cell_type": "code",
   "execution_count": 14,
   "metadata": {},
   "outputs": [],
   "source": [
    "cosmo = Planck15.clone()\n",
    "cosmo_h = Planck15.clone(H0=100)"
   ]
  },
  {
   "cell_type": "code",
   "execution_count": 15,
   "metadata": {},
   "outputs": [],
   "source": [
    "#set parameters for power spectra computations.\n",
    "kmax=1000\n",
    "kmin=1e-3\n",
    "k_smooth=1\n",
    "nk=8000*4\n",
    "rmin=.1\n",
    "rmax=100\n",
    "non_linear=1"
   ]
  },
  {
   "cell_type": "code",
   "execution_count": 16,
   "metadata": {},
   "outputs": [],
   "source": [
    "cosmo_fid=dict({'h':cosmo.h,'Omb':cosmo.Ob0,'Omd':cosmo.Om0-cosmo.Ob0,'s8':0.817,'Om':cosmo.Om0,\n",
    "                'As':2.12e-09,'mnu':cosmo.m_nu[-1].value,'Omk':cosmo.Ok0,'tau':0.06,'ns':0.965,'w':-1,'wa':0})\n",
    "pk_params={'non_linear':non_linear,'kmax':kmax,'kmin':kmin,'nk':nk}"
   ]
  },
  {
   "cell_type": "code",
   "execution_count": 17,
   "metadata": {},
   "outputs": [],
   "source": [
    "PS = Power_Spectra(cosmo_params=cosmo_fid, pk_params=pk_params)"
   ]
  },
  {
   "cell_type": "code",
   "execution_count": 18,
   "metadata": {},
   "outputs": [],
   "source": [
    "z_mean=0\n",
    "\n",
    "pk,kh =PS.camb_pk(z=[z_mean])\n",
    "pk=taper(k=kh,pk=pk[0])"
   ]
  },
  {
   "cell_type": "code",
   "execution_count": 19,
   "metadata": {},
   "outputs": [],
   "source": [
    "rp=np.linspace(1, 80, 2000)\n",
    "pi=np.linspace(-80, 80, 2000)"
   ]
  },
  {
   "cell_type": "code",
   "execution_count": 20,
   "metadata": {},
   "outputs": [],
   "source": [
    "C1_rhoC = 0.0134\n",
    "Om = cosmo.Om0\n",
    "\n",
    "Dz=DZ_int(z=np.append([0],z_mean),cosmo=cosmo)# Dz is normalized to 1 at lowest z. \n",
    "Dz=Dz[1]/Dz[0]\n",
    "\n",
    "zeta = C1_rhoC * Om / Dz"
   ]
  },
  {
   "cell_type": "code",
   "execution_count": 21,
   "metadata": {},
   "outputs": [],
   "source": [
    "pcr = Projected_Corr_RSD(rp=rp, pi=pi, pi_max=100, l=[0,2,4,6], k=kh,spins=[0,2])"
   ]
  },
  {
   "cell_type": "code",
   "execution_count": 22,
   "metadata": {},
   "outputs": [],
   "source": [
    "def plot_corr(rp, pi, xi, cont_levels, func):\n",
    "    \n",
    "    rpG, piG = np.meshgrid(rp, pi)\n",
    "    \n",
    "    figure = plt.figure(figsize=(8, 6))\n",
    "    \n",
    "    xi_cont = figure.add_axes([0.1, 0.1, 0.65, 0.8])\n",
    "    xi_cb = figure.add_axes([0.78, 0.1, 0.02, 0.8])\n",
    "    \n",
    "    xi_cont.set_title('$\\\\xi_{' +func+ '}$', fontsize=16)\n",
    "    xi_cont.set_xlabel('$r_{p}$ (Mpc/h)', fontsize=12)\n",
    "    xi_cont.set_ylabel('$\\\\Pi$ (Mpc/h)')\n",
    "    \n",
    "    # cm = xi_cont.contourf(rpG, piG, xi, levels=cont_levels, norm=mpl.colors.LogNorm(), cmap=mpl.cm.tab20c)\n",
    "    cm = xi_cont.contourf(\n",
    "        np.concatenate((np.fliplr(-rpG), rpG), axis=1), \n",
    "        np.concatenate((piG, piG), axis=1), \n",
    "        np.concatenate((np.fliplr(xi), xi), axis=1), \n",
    "        levels=cont_levels, norm=mpl.colors.LogNorm(), cmap=mpl.cm.tab20c)\n",
    "\n",
    "    \n",
    "    plt.colorbar(cm, cax=xi_cb, format='%.3e')\n",
    "    \n",
    "    xi_cont.grid()\n",
    "    \n",
    "    return xi_cont"
   ]
  },
  {
   "cell_type": "code",
   "execution_count": 23,
   "metadata": {},
   "outputs": [],
   "source": [
    "# First, we set up the most general possible function to mask input data in r-mu\n",
    "def cut_data(rG, muG, xiG, thresh=2):\n",
    "    rpG = rG * np.sqrt(1-muG**2)\n",
    "    mask = rpG >= thresh\n",
    "    return xiG * mask"
   ]
  },
  {
   "cell_type": "code",
   "execution_count": 24,
   "metadata": {},
   "outputs": [],
   "source": [
    "global_rsd = True\n",
    "global_rp_cut = 2"
   ]
  },
  {
   "cell_type": "code",
   "execution_count": 25,
   "metadata": {},
   "outputs": [],
   "source": [
    "f = 0\n",
    "\n",
    "if global_rsd:\n",
    "    f = cosmo.Om0**.55"
   ]
  },
  {
   "cell_type": "markdown",
   "metadata": {},
   "source": [
    "## Grab data from corr_pc"
   ]
  },
  {
   "cell_type": "code",
   "execution_count": 26,
   "metadata": {},
   "outputs": [],
   "source": [
    "wgp_sim = pd.DataFrame(\n",
    "    read_output(file_dir_cross, var=['wgg', 'wgp'], rsd=global_rsd)['data'][['rp', 'wgg', 'wgg_err', 'wgp', 'wgp_err']])\n",
    "\n",
    "wgg_sim=pd.DataFrame(\n",
    "    read_output(file_dir_auto, var=['wgg'], rsd=global_rsd)['data'][['rp', 'wgg', 'wgg_err']])\n",
    "\n",
    "wgp_cov = read_output(file_dir_cross, var=['wgg', 'wgp'], rsd=global_rsd)['cov']['wgp']\n",
    "\n",
    "wgg_cov = read_output(file_dir_auto, var=['wgg'], rsd=global_rsd)['cov']['wgg']"
   ]
  },
  {
   "cell_type": "markdown",
   "metadata": {},
   "source": [
    "## $ \\xi_{gg} $ and $ w_{gg} $ Calculations"
   ]
  },
  {
   "cell_type": "code",
   "execution_count": 27,
   "metadata": {},
   "outputs": [],
   "source": [
    "rp = np.linspace(2, 25, 500)\n",
    "pi = np.linspace(-25, 25, 1000)"
   ]
  },
  {
   "cell_type": "code",
   "execution_count": 28,
   "metadata": {},
   "outputs": [],
   "source": [
    "def wgg(rp_interp, bg):\n",
    "    \n",
    "    xigg = (bg**2) * pcr.xi_rp_pi(f, bg1=bg, pk=pk, l=[0,2,4], spin=0, rp=rp, pi=pi)\n",
    "    dpi = np.gradient(pi)\n",
    "    \n",
    "    wgg_pts = dpi@xigg\n",
    "    wgg_interp = interp1d(rp, wgg_pts)\n",
    "    \n",
    "    return wgg_interp(rp_interp)"
   ]
  },
  {
   "cell_type": "code",
   "execution_count": 29,
   "metadata": {},
   "outputs": [
    {
     "data": {
      "text/plain": [
       "0.8488539903945838"
      ]
     },
     "execution_count": 29,
     "metadata": {},
     "output_type": "execute_result"
    },
    {
     "data": {
      "image/png": "[encoded data removed]",
      "text/plain": [
       "<Figure size 432x288 with 1 Axes>"
      ]
     },
     "metadata": {
      "needs_background": "light"
     },
     "output_type": "display_data"
    },
    {
     "data": {
      "image/png": "[encoded data removed]",
      "text/plain": [
       "<Figure size 576x432 with 2 Axes>"
      ]
     },
     "metadata": {
      "needs_background": "light"
     },
     "output_type": "display_data"
    }
   ],
   "source": [
    "# wgg_sim = pd.read_csv('snr_data_new/wgg.csv', index_col=0)\n",
    "\n",
    "wgg_fit = curve_fit(wgg, wgg_sim.rp, wgg_sim.wgg, sigma=wgg_sim.wgg_err)\n",
    "# wgg_fit = curve_fit(wgg, wgg_sim.rp, wgg_sim.wgg, sigma=wgg_cov)\n",
    "\n",
    "plt.errorbar(wgg_sim.rp, wgg_sim.wgg, wgg_sim.wgg_err, fmt='o')\n",
    "plt.plot(wgg_sim.rp, wgg(wgg_sim.rp, wgg_fit[0][0]))\n",
    "\n",
    "plt.loglog()\n",
    "\n",
    "# Fitted galaxy bias\n",
    "bias = wgg_fit[0][0]\n",
    "\n",
    "xigg = (bias**2) * pcr.xi_rp_pi(f, bg1=bias, pk=pk, l=[0,2,4], rp=rp, pi=pi)\n",
    "\n",
    "levels = np.logspace(-4, 4, 20)\n",
    "plot_corr(rp, pi, xigg, levels, 'gg')\n",
    "\n",
    "bias"
   ]
  },
  {
   "cell_type": "markdown",
   "metadata": {},
   "source": [
    "# Refitting for $b_g$ with $\\xi_{gg}^{0}(r,\\mu)$"
   ]
  },
  {
   "cell_type": "code",
   "execution_count": 30,
   "metadata": {},
   "outputs": [],
   "source": [
    "gg_mono = read_output(file_dir_auto, var=['wgg'], coords=7, rsd=global_rsd)['data'][['rp', 'wgg', 'wgg_err']]"
   ]
  },
  {
   "cell_type": "code",
   "execution_count": 31,
   "metadata": {},
   "outputs": [],
   "source": [
    "def cut_gg_monopole(r, new_bias, thresh=0):\n",
    "    mu = np.linspace(-1, 1, 200)\n",
    "    dmu = np.gradient(mu)\n",
    "    \n",
    "    rG, muG = np.meshgrid(r, mu)\n",
    "    \n",
    "    rpG = np.sqrt(1-muG**2) * rG\n",
    "    \n",
    "    alpha = pcr.alpha(0, f/new_bias, f/new_bias, spin=0)\n",
    "    prefactor = float(alpha) * (new_bias**2)\n",
    "    \n",
    "    r_i, xi_i = pcr.get_xi_multipole(pk=pk, l=[0])\n",
    "    xi_i_interp = np.interp(rG, r_i[0], prefactor * xi_i[0], left=0, right=0)\n",
    "    \n",
    "    xi = xi_i_interp * 1 # Monopole legendre polynomial is just 1 \n",
    "    cut_xi = cut_data(rG, muG, xi, thresh=thresh)\n",
    "    \n",
    "    mono = (dmu @ (cut_xi))\n",
    "    \n",
    "    return mono"
   ]
  },
  {
   "cell_type": "code",
   "execution_count": 32,
   "metadata": {},
   "outputs": [
    {
     "data": {
      "text/plain": [
       "(array([1.05557659]), array([[0.00216228]]))"
      ]
     },
     "execution_count": 32,
     "metadata": {},
     "output_type": "execute_result"
    }
   ],
   "source": [
    "mono_fit = lambda r, new_bias : cut_gg_monopole(r, new_bias, thresh=global_rp_cut)\n",
    "\n",
    "monopole_fit = curve_fit(mono_fit, gg_mono['rp'], gg_mono['wgg'], sigma=gg_mono['wgg_err'])\n",
    "\n",
    "monopole_fit"
   ]
  },
  {
   "cell_type": "code",
   "execution_count": 33,
   "metadata": {},
   "outputs": [
    {
     "data": {
      "text/plain": [
       "Text(0.5, 0, '$r$ (Mpc/h)')"
      ]
     },
     "execution_count": 33,
     "metadata": {},
     "output_type": "execute_result"
    },
    {
     "data": {
      "image/png": "[encoded data removed]",
      "text/plain": [
       "<Figure size 432x288 with 1 Axes>"
      ]
     },
     "metadata": {
      "needs_background": "light"
     },
     "output_type": "display_data"
    }
   ],
   "source": [
    "plt.errorbar(gg_mono['rp'], gg_mono['wgg'], gg_mono['wgg_err'])\n",
    "plt.plot(gg_mono['rp'], cut_gg_monopole(gg_mono['rp'], monopole_fit[0][0]))\n",
    "plt.loglog()\n",
    "\n",
    "plt.title('$\\\\xi_{gg}$ Monopole fit', fontsize=16)\n",
    "plt.xlabel('$r$ (Mpc/h)', fontsize=12)"
   ]
  },
  {
   "cell_type": "markdown",
   "metadata": {},
   "source": [
    "## $ \\xi_{g+} $ and $ w_{g+} $ Calculations"
   ]
  },
  {
   "cell_type": "code",
   "execution_count": 34,
   "metadata": {},
   "outputs": [],
   "source": [
    "rp = np.linspace(0, 25, 500)\n",
    "pi = np.linspace(-25, 25, 1000)"
   ]
  },
  {
   "cell_type": "code",
   "execution_count": 35,
   "metadata": {},
   "outputs": [],
   "source": [
    "def wgp(rp_interp, ai):\n",
    "    \n",
    "    xigp = ai * zeta * bias * pcr.xi_rp_pi(f, bg1=bias, pk=pk, l=[2,4], spin=2, rp=rp, pi=pi)\n",
    "    dpi = np.gradient(pi)\n",
    "    \n",
    "    wgp_pts = dpi@xigp\n",
    "    wgp_interp = interp1d(rp, wgp_pts)\n",
    "    \n",
    "    return wgp_interp(rp_interp)"
   ]
  },
  {
   "cell_type": "code",
   "execution_count": 36,
   "metadata": {},
   "outputs": [
    {
     "data": {
      "text/plain": [
       "array([[5.28124697]])"
      ]
     },
     "execution_count": 36,
     "metadata": {},
     "output_type": "execute_result"
    },
    {
     "data": {
      "image/png": "[encoded data removed]",
      "text/plain": [
       "<Figure size 576x288 with 1 Axes>"
      ]
     },
     "metadata": {
      "needs_background": "light"
     },
     "output_type": "display_data"
    },
    {
     "data": {
      "image/png": "[encoded data removed]",
      "text/plain": [
       "<Figure size 576x432 with 2 Axes>"
      ]
     },
     "metadata": {
      "needs_background": "light"
     },
     "output_type": "display_data"
    }
   ],
   "source": [
    "# wgp_sim = pd.read_csv('snr_data_new/wgp.csv', index_col=0)\n",
    "\n",
    "# wgp_fit = curve_fit(wgp, wgp_sim.rp, wgp_sim.wgp, sigma=wgp_sim.wgp_err)\n",
    "wgp_fit = curve_fit(wgp, wgp_sim.rp, wgp_sim.wgp, sigma=wgp_sim.wgp_err)\n",
    "\n",
    "\n",
    "# Fitted alignment parameter\n",
    "ai = wgp_fit[0][0]\n",
    "# print(ai)\n",
    "\n",
    "d = np.array([wgp(wgp_sim.rp, ai)])\n",
    "before = np.sqrt(d@np.linalg.inv(wgp_cov)@d.T)\n",
    "\n",
    "xigp = np.array(ai * zeta * bias * pcr.xi_rp_pi(f, bg1=bias, pk=pk, l=[2,4], spin=2, rp=rp, pi=pi))\n",
    "\n",
    "levels = np.logspace(-7, 2, 10)\n",
    "\n",
    "plt.figure(figsize=(8, 4))\n",
    "\n",
    "plt.errorbar(wgp_sim.rp, wgp_sim.wgp, wgp_sim.wgp_err, fmt='o--')\n",
    "plt.plot(wgp_sim.rp, d[0])\n",
    "plt.loglog()\n",
    "\n",
    "plt.title('$w_{g+}$', fontsize=16)\n",
    "plt.xlabel('$r_p$ (Mpc/h)', fontsize=14)\n",
    "\n",
    "plot_corr(rp, pi, xigp, levels, 'g+')\n",
    "\n",
    "before"
   ]
  },
  {
   "cell_type": "code",
   "execution_count": 37,
   "metadata": {},
   "outputs": [],
   "source": [
    "def chi_sq(theory_y, data_y):\n",
    "    chi_square = np.sum(((theory_y - data_y)**2)/(theory_y))\n",
    "    return chi_square"
   ]
  },
  {
   "cell_type": "code",
   "execution_count": 38,
   "metadata": {},
   "outputs": [],
   "source": [
    "# f = cosmo.Om0**.55\n",
    "betaD = f / bias"
   ]
  },
  {
   "cell_type": "markdown",
   "metadata": {},
   "source": [
    "# The Finale"
   ]
  },
  {
   "cell_type": "code",
   "execution_count": 39,
   "metadata": {},
   "outputs": [
    {
     "data": {
      "text/plain": [
       "0.615859750174146"
      ]
     },
     "execution_count": 39,
     "metadata": {},
     "output_type": "execute_result"
    }
   ],
   "source": [
    "f/bias"
   ]
  },
  {
   "cell_type": "code",
   "execution_count": 40,
   "metadata": {},
   "outputs": [],
   "source": [
    "def calc_quadrupole(rG, muG, xiG):\n",
    "    dmu = np.gradient(muG, axis=0)\n",
    "    aL = associated_legendre(2,2,muG)\n",
    "#     return rG[0], (5/2)*np.sum(dmu*aL*xiG, axis=0)\n",
    "    return rG[0], (5./48.)*np.sum(dmu*aL*xiG, axis=0)"
   ]
  },
  {
   "cell_type": "code",
   "execution_count": 41,
   "metadata": {},
   "outputs": [],
   "source": [
    "def cut_gp_quadrupole(r, new_ai, thresh=0):\n",
    "    mu = np.linspace(-1, 1, 500)\n",
    "    dmu = np.gradient(mu)\n",
    "    \n",
    "    rG, muG = np.meshgrid(r, mu)\n",
    "    \n",
    "    rpG = np.sqrt(1-muG**2) * rG\n",
    "    \n",
    "    alpha = pcr.alpha(2, f/bias, f/bias, spin=2)\n",
    "    prefactor = -1 * float(alpha) * zeta * new_ai * bias\n",
    "    \n",
    "    r_i, xi_i = pcr.get_xi_multipole(pk=pk, l=[2])\n",
    "    xi_i_interp = np.interp(rG, r_i[2], prefactor * xi_i[2], left=0, right=0)\n",
    "    \n",
    "    xi = xi_i_interp * associated_legendre(2,2,muG)\n",
    "    cut_xi = cut_data(rG, muG, xi, thresh=thresh)\n",
    "    \n",
    "    quad = (5./48.) * (dmu @ (cut_xi * associated_legendre(2,2,muG)))\n",
    "    \n",
    "    return quad"
   ]
  },
  {
   "cell_type": "code",
   "execution_count": 42,
   "metadata": {},
   "outputs": [],
   "source": [
    "# Fits and plots quadrupole with specified lower rp bound, returns SNR and fitted A_I (with variance)\n",
    "\n",
    "def fit_quadrupole(rp_lower=0, rsd=False):\n",
    "    \n",
    "    xigp_jk = read_output(file_dir_cross, var=['wgg', 'wgp'], bins2D=True, rsd=rsd, coords=7)\n",
    "    xigp = pd.DataFrame(read_output(file_dir_cross, \n",
    "                                        var=['wgg', 'wgp'], \n",
    "                                        bins2D=True, rsd=rsd, \n",
    "                                        coords=7)['data'][['rp', 'pi', 'wgg', 'wgg_err', 'wgp', 'wgp_err']]\n",
    "                           ).rename(columns={'rp':'r', 'pi':'mu'})\n",
    "    \n",
    "    shape2 = (len(xigp.r.unique()), len(xigp.mu.unique()))\n",
    "\n",
    "    b = {}\n",
    "    c = []\n",
    "    \n",
    "    def get_box_quad(xigp_jk, i):\n",
    "        box = xigp_jk[i]\n",
    "        box_rG = box['rp'].reshape(shape2).T\n",
    "        box_muG = box['pi'].reshape(shape2).T\n",
    "        box_xigpG = cut_data(box_rG, box_muG, box['wgp'].reshape(shape2).T, thresh=rp_lower)\n",
    "        \n",
    "        return calc_quadrupole(box_rG, box_muG, box_xigpG)\n",
    "\n",
    "    for i in np.arange(njk):\n",
    "        box_r, box_quad = get_box_quad(xigp_jk, i)\n",
    "        b[i] = box_quad\n",
    "        \n",
    "    cc = cov_corr()\n",
    "    b['cov'], b['corr'] = cc.dict_cov(dic=b,stack=1)\n",
    "    b['cov']*= (njk-1)\n",
    "    \n",
    "    fit_fn = lambda r, new_ai : cut_gp_quadrupole(r, new_ai, thresh=rp_lower)\n",
    "        \n",
    "    for i in np.arange(njk):\n",
    "        box_r, box_quad = get_box_quad(xigp_jk, i)\n",
    "        c.append(curve_fit(fit_fn, box_r, box_quad, sigma=np.sqrt(np.diag(b['cov'])))[0][0])\n",
    "    \n",
    "    # print(c)\n",
    "    ai_var = np.var(c)\n",
    "    ai_var *= (njk-1)\n",
    "\n",
    "    rG = xigp.r.to_numpy().reshape(shape2).T\n",
    "    muG = xigp.mu.to_numpy().reshape(shape2).T\n",
    "    xigpG = xigp.wgp.to_numpy().reshape(shape2).T\n",
    "\n",
    "    rq, q = calc_quadrupole(rG, muG, cut_data(rG, muG, xigpG, thresh=rp_lower))\n",
    "\n",
    "    quad_ai, pcov = curve_fit(fit_fn, rq, q, sigma=np.sqrt(np.diag(b['cov'])), absolute_sigma=True)\n",
    "    print(b['cov'])\n",
    "    # quad_ai, pcov = curve_fit(fit_fn, rq, q, sigma=b['cov'])\n",
    "    \n",
    "    # print(quad_ai)\n",
    "\n",
    "    qt = np.array([cut_gp_quadrupole(rq, quad_ai, thresh=rp_lower)])\n",
    "    \n",
    "    rt = np.linspace(1, 25, 250)\n",
    "    qft = np.array([cut_gp_quadrupole(rt, quad_ai, thresh=rp_lower)])\n",
    "    \n",
    "    chi_sq = np.sum(((q-qt)/(np.sqrt(np.diag(b['cov']))))**2)\n",
    "    print(chi_sq)\n",
    "\n",
    "    plt.figure(figsize=(6, 4))\n",
    "    plt.errorbar(rq, q, np.sqrt(np.diag(b['cov'])), fmt='o--')\n",
    "    plt.plot(rt, qft[0])\n",
    "    plt.loglog()\n",
    "    plt.grid()\n",
    "\n",
    "    plt.title('$\\\\xi_{g+}^{4}(r)$', fontsize=16)\n",
    "    plt.xlabel('$r$ (Mpc/h)', fontsize=14)\n",
    "\n",
    "    return (quad_ai, ai_var), np.sqrt(qt @ np.linalg.inv(b['cov']) @ qt.T)"
   ]
  },
  {
   "cell_type": "code",
   "execution_count": 43,
   "metadata": {},
   "outputs": [
    {
     "name": "stdout",
     "output_type": "stream",
     "text": [
      "[[ 2.96271892e-05  1.38069670e-05  8.40710283e-06  3.80416718e-06\n",
      "   4.14793699e-06  2.47070275e-06 -1.83371786e-07  1.39218011e-07\n",
      "   4.09229487e-09 -1.58992050e-07]\n",
      " [ 1.38069670e-05  1.45426361e-05  8.27290376e-06  5.32465538e-06\n",
      "   3.49960394e-06  1.43846887e-06  1.07495799e-07  2.46884769e-07\n",
      "   2.80522208e-07  1.72601077e-07]\n",
      " [ 8.40710283e-06  8.27290376e-06  7.45674273e-06  3.87367243e-06\n",
      "   3.10854159e-06  1.46020898e-06  6.29356050e-07  4.19177421e-07\n",
      "   2.18472088e-07  2.66673202e-07]\n",
      " [ 3.80416718e-06  5.32465538e-06  3.87367243e-06  3.95686331e-06\n",
      "   2.44265529e-06  1.39253056e-06  6.81693494e-07  4.65081678e-07\n",
      "   2.78364263e-07  1.51564532e-07]\n",
      " [ 4.14793699e-06  3.49960394e-06  3.10854159e-06  2.44265529e-06\n",
      "   3.07758507e-06  1.77593122e-06  1.03636522e-06  6.12859663e-07\n",
      "   3.59672455e-07  2.43197787e-07]\n",
      " [ 2.47070275e-06  1.43846887e-06  1.46020898e-06  1.39253056e-06\n",
      "   1.77593122e-06  1.67267042e-06  1.08277824e-06  6.09580867e-07\n",
      "   2.56051777e-07  9.45861884e-08]\n",
      " [-1.83371786e-07  1.07495799e-07  6.29356050e-07  6.81693494e-07\n",
      "   1.03636522e-06  1.08277824e-06  1.16783111e-06  6.41092856e-07\n",
      "   3.03206004e-07  1.45964111e-07]\n",
      " [ 1.39218011e-07  2.46884769e-07  4.19177421e-07  4.65081678e-07\n",
      "   6.12859663e-07  6.09580867e-07  6.41092856e-07  4.46762989e-07\n",
      "   2.30886667e-07  1.14166939e-07]\n",
      " [ 4.09229487e-09  2.80522208e-07  2.18472088e-07  2.78364263e-07\n",
      "   3.59672455e-07  2.56051777e-07  3.03206004e-07  2.30886667e-07\n",
      "   1.90869265e-07  1.21419678e-07]\n",
      " [-1.58992050e-07  1.72601077e-07  2.66673202e-07  1.51564532e-07\n",
      "   2.43197787e-07  9.45861884e-08  1.45964111e-07  1.14166939e-07\n",
      "   1.21419678e-07  1.26799561e-07]]\n",
      "12.03641079708965\n"
     ]
    },
    {
     "data": {
      "text/plain": [
       "((array([3.53598355]), 0.39797756201410284), array([[7.96737574]]))"
      ]
     },
     "execution_count": 43,
     "metadata": {},
     "output_type": "execute_result"
    },
    {
     "data": {
      "image/png": "[encoded data removed]",
      "text/plain": [
       "<Figure size 432x288 with 1 Axes>"
      ]
     },
     "metadata": {
      "needs_background": "light"
     },
     "output_type": "display_data"
    }
   ],
   "source": [
    "fit_quadrupole(rp_lower=0, rsd=global_rsd)"
   ]
  },
  {
   "cell_type": "code",
   "execution_count": 44,
   "metadata": {},
   "outputs": [
    {
     "name": "stdout",
     "output_type": "stream",
     "text": [
      "[[ 2.82426072e-05  1.22654147e-05  7.74834314e-06  3.41711340e-06\n",
      "   3.84754655e-06  2.38187148e-06 -1.73362590e-07  1.28152990e-07\n",
      "  -2.75115280e-08 -1.97884576e-07]\n",
      " [ 1.22654147e-05  1.32463775e-05  7.81164124e-06  5.08816553e-06\n",
      "   3.27300121e-06  1.35948124e-06  1.04813650e-07  2.34006221e-07\n",
      "   2.60559972e-07  1.48158764e-07]\n",
      " [ 7.74834314e-06  7.81164124e-06  7.45674273e-06  3.87367243e-06\n",
      "   3.10854159e-06  1.46020898e-06  6.29356050e-07  4.19177421e-07\n",
      "   2.18472088e-07  2.66673202e-07]\n",
      " [ 3.41711340e-06  5.08816553e-06  3.87367243e-06  3.95686331e-06\n",
      "   2.44265529e-06  1.39253056e-06  6.81693494e-07  4.65081678e-07\n",
      "   2.78364263e-07  1.51564532e-07]\n",
      " [ 3.84754655e-06  3.27300121e-06  3.10854159e-06  2.44265529e-06\n",
      "   3.07758507e-06  1.77593122e-06  1.03636522e-06  6.12859663e-07\n",
      "   3.59672455e-07  2.43197787e-07]\n",
      " [ 2.38187148e-06  1.35948124e-06  1.46020898e-06  1.39253056e-06\n",
      "   1.77593122e-06  1.67267042e-06  1.08277824e-06  6.09580867e-07\n",
      "   2.56051777e-07  9.45861884e-08]\n",
      " [-1.73362590e-07  1.04813650e-07  6.29356050e-07  6.81693494e-07\n",
      "   1.03636522e-06  1.08277824e-06  1.16783111e-06  6.41092856e-07\n",
      "   3.03206004e-07  1.45964111e-07]\n",
      " [ 1.28152990e-07  2.34006221e-07  4.19177421e-07  4.65081678e-07\n",
      "   6.12859663e-07  6.09580867e-07  6.41092856e-07  4.46762989e-07\n",
      "   2.30886667e-07  1.14166939e-07]\n",
      " [-2.75115280e-08  2.60559972e-07  2.18472088e-07  2.78364263e-07\n",
      "   3.59672455e-07  2.56051777e-07  3.03206004e-07  2.30886667e-07\n",
      "   1.90869265e-07  1.21419678e-07]\n",
      " [-1.97884576e-07  1.48158764e-07  2.66673202e-07  1.51564532e-07\n",
      "   2.43197787e-07  9.45861884e-08  1.45964111e-07  1.14166939e-07\n",
      "   1.21419678e-07  1.26799561e-07]]\n",
      "13.807231294149425\n"
     ]
    },
    {
     "data": {
      "text/plain": [
       "((array([3.41814994]), 0.374263278236332), array([[7.94204678]]))"
      ]
     },
     "execution_count": 44,
     "metadata": {},
     "output_type": "execute_result"
    },
    {
     "data": {
      "image/png": "[encoded data removed]",
      "text/plain": [
       "<Figure size 432x288 with 1 Axes>"
      ]
     },
     "metadata": {
      "needs_background": "light"
     },
     "output_type": "display_data"
    }
   ],
   "source": [
    "fit_quadrupole(rp_lower=1, rsd=global_rsd)"
   ]
  },
  {
   "cell_type": "code",
   "execution_count": 45,
   "metadata": {},
   "outputs": [
    {
     "name": "stdout",
     "output_type": "stream",
     "text": [
      "[[3.76319396e-06 3.77597960e-06 2.26729211e-06 1.63671784e-06\n",
      "  1.43076203e-06 7.61687884e-07 1.11334947e-07 1.92187185e-07\n",
      "  1.82133678e-07 6.43559637e-08]\n",
      " [3.77597960e-06 9.07003924e-06 5.83682814e-06 4.20548180e-06\n",
      "  2.61155460e-06 1.21196442e-06 3.64956214e-07 3.43270474e-07\n",
      "  2.64172447e-07 1.21635662e-07]\n",
      " [2.26729211e-06 5.83682814e-06 6.45305283e-06 3.49624385e-06\n",
      "  2.77452269e-06 1.40724715e-06 6.87482333e-07 4.36282541e-07\n",
      "  2.04245612e-07 2.41260022e-07]\n",
      " [1.63671784e-06 4.20548180e-06 3.49624385e-06 3.83837559e-06\n",
      "  2.34195764e-06 1.36878921e-06 6.89427395e-07 4.64565358e-07\n",
      "  2.74976876e-07 1.46628082e-07]\n",
      " [1.43076203e-06 2.61155460e-06 2.77452269e-06 2.34195764e-06\n",
      "  2.99220749e-06 1.76374225e-06 1.04346562e-06 6.13729602e-07\n",
      "  3.57858583e-07 2.38934533e-07]\n",
      " [7.61687884e-07 1.21196442e-06 1.40724715e-06 1.36878921e-06\n",
      "  1.76374225e-06 1.67267042e-06 1.08277824e-06 6.09580867e-07\n",
      "  2.56051777e-07 9.45861884e-08]\n",
      " [1.11334947e-07 3.64956214e-07 6.87482333e-07 6.89427395e-07\n",
      "  1.04346562e-06 1.08277824e-06 1.16783111e-06 6.41092856e-07\n",
      "  3.03206004e-07 1.45964111e-07]\n",
      " [1.92187185e-07 3.43270474e-07 4.36282541e-07 4.64565358e-07\n",
      "  6.13729602e-07 6.09580867e-07 6.41092856e-07 4.46762989e-07\n",
      "  2.30886667e-07 1.14166939e-07]\n",
      " [1.82133678e-07 2.64172447e-07 2.04245612e-07 2.74976876e-07\n",
      "  3.57858583e-07 2.56051777e-07 3.03206004e-07 2.30886667e-07\n",
      "  1.90869265e-07 1.21419678e-07]\n",
      " [6.43559637e-08 1.21635662e-07 2.41260022e-07 1.46628082e-07\n",
      "  2.38934533e-07 9.45861884e-08 1.45964111e-07 1.14166939e-07\n",
      "  1.21419678e-07 1.26799561e-07]]\n",
      "10.434656623091877\n"
     ]
    },
    {
     "data": {
      "text/plain": [
       "((array([3.46756572]), 0.38280773271459967), array([[7.12451045]]))"
      ]
     },
     "execution_count": 45,
     "metadata": {},
     "output_type": "execute_result"
    },
    {
     "data": {
      "image/png": "[encoded data removed]",
      "text/plain": [
       "<Figure size 432x288 with 1 Axes>"
      ]
     },
     "metadata": {
      "needs_background": "light"
     },
     "output_type": "display_data"
    }
   ],
   "source": [
    "fit_quadrupole(rp_lower=2.25, rsd=global_rsd)"
   ]
  },
  {
   "cell_type": "code",
   "execution_count": null,
   "metadata": {},
   "outputs": [],
   "source": []
  },
  {
   "cell_type": "code",
   "execution_count": null,
   "metadata": {},
   "outputs": [],
   "source": []
  }
 ],
 "metadata": {
  "kernelspec": {
   "display_name": "model",
   "language": "python",
   "name": "model"
  },
  "language_info": {
   "codemirror_mode": {
    "name": "ipython",
    "version": 3
   },
   "file_extension": ".py",
   "mimetype": "text/x-python",
   "name": "python",
   "nbconvert_exporter": "python",
   "pygments_lexer": "ipython3",
   "version": "3.10.4"
  }
 },
 "nbformat": 4,
 "nbformat_minor": 4
}
