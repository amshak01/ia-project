{
 "cells": [
  {
   "cell_type": "code",
   "execution_count": 53,
   "metadata": {},
   "outputs": [],
   "source": [
    "import scipy\n",
    "from scipy.special import jn, jn_zeros\n",
    "from scipy.interpolate import interp1d\n",
    "from scipy.optimize import curve_fit\n",
    "from scipy.special import eval_legendre as legendre\n",
    "\n",
    "from astropy.cosmology import Planck15\n",
    "import astropy.units as u\n",
    "\n",
    "from power_spectra import * \n",
    "from projected_corr_rsd import *\n",
    "from wigner_functions import wigner_d\n",
    "from wigner_functions import associated_legendre as aLegendre\n",
    "\n",
    "import numpy as np\n",
    "import pandas as pd\n",
    "\n",
    "import matplotlib as mpl\n",
    "from matplotlib import pyplot as plt\n",
    "\n",
    "from scipy.stats import linregress as linreg\n",
    "\n",
    "%matplotlib inline"
   ]
  },
  {
   "cell_type": "code",
   "execution_count": 54,
   "metadata": {},
   "outputs": [],
   "source": [
    "from wigner_functions import associated_legendre"
   ]
  },
  {
   "cell_type": "code",
   "execution_count": 55,
   "metadata": {},
   "outputs": [],
   "source": [
    "import warnings\n",
    "warnings.filterwarnings('ignore')"
   ]
  },
  {
   "cell_type": "markdown",
   "metadata": {},
   "source": [
    "## Reading Simulation Data"
   ]
  },
  {
   "cell_type": "code",
   "execution_count": 56,
   "metadata": {},
   "outputs": [
    {
     "name": "stdout",
     "output_type": "stream",
     "text": [
      "%pylab is deprecated, use %matplotlib inline and import the required libraries.\n",
      "Populating the interactive namespace from numpy and matplotlib\n"
     ]
    }
   ],
   "source": [
    "%pylab inline\n",
    "\n",
    "ignore_keys=['rp','r','jk','cov','corr','jk_err','jkerr','data','data0']\n",
    "class cov_corr():\n",
    "    def mean_calc(self,data=[],axis=1):\n",
    "        return np.mean(data,axis)\n",
    "\n",
    "    def var_calc(self,data=[],axis=1):\n",
    "        return np.var(data,axis)\n",
    "\n",
    "    def residual_calc(self,data=[],axis=1): #calculate residual that go into cov calculation, y-E(y)\n",
    "        mean=self.mean_calc(data,axis)\n",
    "        dim0=len(mean)\n",
    "        dim1=np.shape(data)[axis]\n",
    "        #print dim0,dim1,axis\n",
    "# since mean is always 1-d array, [mean]*dim1 always give matrix [dim0 X dim1]...\n",
    "#hence depending on dimension of data may need to transpose to get correct residuals\n",
    "        try:\n",
    "            res=data-np.transpose([mean]*dim1)\n",
    "            print (\"transpose\")\n",
    "        except:\n",
    "            res=data-[mean]*dim1\n",
    "        return res\n",
    "\n",
    "    def cov_matrix2(self,data=[],axis=1,ddof=0):\n",
    "        return np.cov(data,rowvar=axis)\n",
    "\n",
    "    def cov_matrix(self,data=[],axis=1,ddof=0):\n",
    "        #return np.cov(data,rowvar=axis,ddof=1) #ddof=0 for correct variance\n",
    "        mean=self.mean_calc(data,axis)\n",
    "        dim0=len(mean)\n",
    "        dim1=np.shape(data)[axis]\n",
    "        res=self.residual_calc(data=data,axis=axis)\n",
    "        cov=np.zeros((dim0,dim0))\n",
    "        if len(res[0])!=dim1:\n",
    "            res=np.transpose(res)#residual has dimension of data..\n",
    "                                #depending on axis value, may need to transpose for correct covariance\n",
    "        for i in np.arange(dim0):\n",
    "            for j in np.arange(dim0):\n",
    "                cov[i][j]+=np.sum(res[i]*res[j])\n",
    "        cov/=np.float64(dim1-ddof)\n",
    "        return cov\n",
    "\n",
    "    def cross_cov_matrix2(self,data1=[],data2=[],axis=1,ddof=0):\n",
    "        cross_cov=np.cov(data1,data2,rowvar=axis)\n",
    "        N1=len(data1[0])\n",
    "        N2=len(data2[0])\n",
    "        cov2=np.zeros((N1,N2))\n",
    "        for i in np.arange(N1):\n",
    "            for j in np.arange(N2):\n",
    "                cov2[i][j]=cross_cov[i+N1][j]\n",
    "        return cov2\n",
    "\n",
    "    def cross_cov_matrix(self,data1=[],data2=[],axis=1,ddof=0):\n",
    "    #return np.cov(data,rowvar=axis,ddof=1) #ddof=0 for correct variance\n",
    "        mean1=self.mean_calc(data1,axis)\n",
    "        mean2=self.mean_calc(data2,axis)\n",
    "        dim0=len(mean1)\n",
    "        dim2=len(mean2)\n",
    "        dim1=np.shape(data1)[axis]\n",
    "        res1=self.residual_calc(data=data1,axis=axis)\n",
    "        res2=self.residual_calc(data=data2,axis=axis)\n",
    "        cov=np.zeros((dim0,dim2))\n",
    "        if dim0!=dim2:\n",
    "            print ('cross cov: dimensions of data 1 and data2 not equal')\n",
    "        if len(res1[0])!=dim1:\n",
    "            res2=np.transpose(res2)\n",
    "            res1=np.transpose(res1)#residual has dimension of data..\n",
    "                            #depending on axis value, may need to transpose for correct covariance\n",
    "        for i in np.arange(dim0):\n",
    "            for j in np.arange(dim2):\n",
    "                cov[i][j]+=np.sum(res1[i]*res2[j])\n",
    "        cov/=np.float64(dim1-ddof)\n",
    "        return cov\n",
    "\n",
    "    #for some reason numpy covariance matrix has some constant multiplied to it..\n",
    "    #seems to be some func of N but can't figure it out.\n",
    "    #this func returns that constants value by comparing it with variance\n",
    "    def var_cov_comparison(self,var=[],cov=[]):\n",
    "        l=len(cov[0])\n",
    "        v2=np.zeros_like(var)\n",
    "        for i in np.arange(l):\n",
    "            v2[i]=cov[i][i]\n",
    "        r=var/v2\n",
    "        x=r==r[0]\n",
    "        if sum(x)<l:\n",
    "            print (\"variance-covariance miss match\") #return full ratio array in case r is not constant\n",
    "            return r  #note comparison can be easily fooled due to floating point error\n",
    "        return [r[0]]\n",
    "\n",
    "    def corr_matrix(self,cov_mat=[]): #correlation matrix\n",
    "        diag=np.diag(cov_mat)\n",
    "        return cov_mat/np.sqrt(np.outer(diag,diag))\n",
    "        # dim=len(cov_mat[0])\n",
    "        # var=np.zeros(dim)\n",
    "        # corr=np.zeros((dim,dim))\n",
    "        # for i in np.arange(dim):\n",
    "        #     var[i]=cov_mat[i][i]\n",
    "        # for i in np.arange(dim):\n",
    "        #     for j in np.arange(dim):\n",
    "        #         corr[i][j]=cov_mat[i][j]/np.sqrt(var[i]*var[j])\n",
    "        # return corr\n",
    "\n",
    "    def cross_corr_matrix(self,cov_mat=[],data1=[],data2=[],axis=1): #correlation matrix\n",
    "        dim=len(cov_mat[0])\n",
    "        var1=self.var_calc(data1,axis)\n",
    "        var2=self.var_calc(data2,axis)\n",
    "        corr=np.zeros((dim,dim))\n",
    "#        for i in np.arange(dim):\n",
    " #           var[i]=cov_mat[i][i]\n",
    "        for i in np.arange(dim):\n",
    "            for j in np.arange(dim):\n",
    "                corr[i][j]=cov_mat[i][j]/np.sqrt(var1[i]*var2[j])\n",
    "        return corr\n",
    "\n",
    "    #stack column from various dictionary elements to get a data matrix which goes into covariance calculations\n",
    "    #incase dict elements have several columns, var defines the column to be used. better to have named columns\n",
    "    def dict_stack(self,dic={},var='',ignore_keys=ignore_keys):\n",
    "        keys=dic.keys()\n",
    "        j=0\n",
    "        mat=[]\n",
    "        axis=0\n",
    "        for i in keys:\n",
    "            if i in ignore_keys:\n",
    "                #print 'cov_corr.dict_stack::',i,'ignored in stacking'\n",
    "                continue\n",
    "            if j==0:\n",
    "                if not check_empty(var):\n",
    "                    mat=dic[i][var]\n",
    "                else:\n",
    "                    mat=dic[i]#[:]\n",
    "                j=j+1\n",
    "                continue\n",
    "            if not check_empty(var):\n",
    "                mat=np.vstack((mat,dic[i][var]))\n",
    "            else:\n",
    "                mat=np.vstack((mat,dic[i]))#dic[i][:]\n",
    "                \n",
    "        #print(mat)\n",
    "        return mat,axis\n",
    "\n",
    "\n",
    "    def dict_cov(self,dic={},var='',stack=0,axis=0,ddof=0,ignore_keys=ignore_keys):\n",
    "        if stack!=0:\n",
    "            #print \"cov_corr: Stacking dictionary\"\n",
    "            mat,axis=self.dict_stack(dic=dic,var=var,ignore_keys=ignore_keys)\n",
    "            #print \"cov_corr: dictionary stacked\"\n",
    "        if stack==0:\n",
    "            #print \"no stacking:\",var,axis\n",
    "            mat=dic[var]\n",
    "            axis=axis\n",
    "        cov=self.cov_matrix2(data=mat,axis=axis,ddof=ddof)\n",
    "        #print cov.shape\n",
    "        corr=self.corr_matrix(cov)\n",
    "        return cov,corr\n",
    "\n",
    "\n",
    "    def dict_cross_cov(self,dic={},dic2={},var1='',var2='',stack=0,axis=0,ddof=0):\n",
    "        if stack!=0:\n",
    "            #print \"cov_corr: Stacking dictionary\"\n",
    "            mat1,axis=self.dict_stack(dic=dic,var=var1)\n",
    "            if dic2:\n",
    "                mat2,axis=self.dict_stack(dic=dic2,var=var2)\n",
    "            else:\n",
    "                mat2,axis=self.dict_stack(dic=dic,var=var2)\n",
    "        if stack==0:\n",
    "            #print \"no stacking:\",var,axis\n",
    "            mat1=dic[var1]\n",
    "            if dic2:\n",
    "                mat2=dic2[var2]\n",
    "            else:\n",
    "                mat2=dic[var2]\n",
    "            axis=axis\n",
    "        cov=self.cross_cov_matrix2(data1=mat1,data2=mat2,axis=axis,ddof=ddof)\n",
    "        corr=self.cross_corr_matrix(cov_mat=cov,data1=mat1,data2=mat2,axis=axis)\n",
    "        return cov,corr\n",
    "\n",
    "    def matrix_diagonalize(self,m=[]):\n",
    "        N1=len(m)\n",
    "        N2=len(m[0])\n",
    "        for i in np.arange(N1):\n",
    "            for j in np.arange(N2):\n",
    "                if i==j:\n",
    "                    continue\n",
    "                m[i][j]=0\n",
    "        return m\n",
    "\n",
    "    def mat_inv(self,m=[]):\n",
    "        return np.linalg.inv(m)\n",
    "\n",
    "    def matrix_cut(self,mat=[],x=[]):\n",
    "        m=mat[x]\n",
    "        N=sum(x)\n",
    "        m2=np.zeros((N,N))\n",
    "        j=0\n",
    "        for i in m:\n",
    "            m2[j]=i[x]\n",
    "            j=j+1\n",
    "        return m2\n",
    "\n",
    "    def chi_sq(self,theory=[],data=[],x=None,cov=[]):\n",
    "        if x:\n",
    "            data=data[x]\n",
    "            theory=theory[x]\n",
    "            cov=self.matrix_cut(mat=cov,x=x)\n",
    "        cov_inv=self.mat_inv(m=cov)\n",
    "        #print data.shape,theory.shape,cov.shape,cov_inv.shape\n",
    "        N=len(data)\n",
    "        chi_sq=0\n",
    "        for i in np.arange(N):\n",
    "            for j in np.arange(N):\n",
    "                chi_sq+=((data[i]-theory[i])*(data[j]-theory[j])*(cov_inv[i][j]))\n",
    "        #chi_sq/=2.\n",
    "        return chi_sq,N\n"
   ]
  },
  {
   "cell_type": "code",
   "execution_count": 57,
   "metadata": {},
   "outputs": [],
   "source": [
    "def jk_read(dataset='',var=None,njk=100,auto_cross='_cross',bins='_bins',\n",
    "            home='',corr='_final',skiprows=0,**kwargs):\n",
    "    data_jk={}\n",
    "    filename=dataset\n",
    "    try:\n",
    "        data_jk['data']=np.genfromtxt(home+filename+bins+auto_cross+'_jk_final.dat',\n",
    "                                      names=True,skip_header=skiprows)\n",
    "        #print(home+filename+bins+auto_cross+'_jk_final.dat')\n",
    "    except:\n",
    "        print ('file not found')\n",
    "    try:\n",
    "        data_jk['data0']=np.genfromtxt(home+filename+bins+auto_cross+corr+'.dat',\n",
    "                                       names=True,skip_header=skiprows)\n",
    "    except:\n",
    "        print ('file not found',home+filename+bins+auto_cross+corr+'.dat')\n",
    "    for i in np.arange(njk):\n",
    "        data_jk[i]=np.genfromtxt(home+filename+bins+auto_cross+'_jk'+str(i)+corr+'.dat',names=True,\n",
    "                                 skip_header=skiprows)\n",
    "    cc=cov_corr()\n",
    "    if var and njk>0:\n",
    "        data_jk['cov']={}\n",
    "        data_jk['corr']={}\n",
    "        for v in var:\n",
    "            cov,corr=cc.dict_cov(dic=data_jk,var=v,stack=1,ignore_keys=['data','data0','cov','corr'])\n",
    "            cov*=njk-1.\n",
    "            data_jk['cov'][v]=cov\n",
    "            data_jk['corr'][v]=corr\n",
    "    return data_jk\n"
   ]
  },
  {
   "cell_type": "code",
   "execution_count": 58,
   "metadata": {},
   "outputs": [
    {
     "data": {
      "text/plain": [
       "('/hildafs/projects/phy200017p/amshakir/ia_project/no_rsd_rp_pi/corr_data_out/',\n",
       " 'data_no_rsd_rp_pi')"
      ]
     },
     "execution_count": 58,
     "metadata": {},
     "output_type": "execute_result"
    }
   ],
   "source": [
    "# file_dir_cross = '/hildafs/home/amshakir/corr_pc/corr_pc/temp/ia_project/'\n",
    "# file_dir_auto = '/hildafs/home/amshakir/corr_pc/corr_pc/temp/ia_project/density_auto/'\n",
    "\n",
    "file_dir_cross = '/hildafs/projects/phy200017p/amshakir/ia_project/'\n",
    "file_dir_auto = '/hildafs/projects/phy200017p/amshakir/ia_project/density_auto/'\n",
    "\n",
    "def get_path(file_dir, rsd=False, coords=6):\n",
    "    \n",
    "    path = ''\n",
    "    \n",
    "    if rsd: path += 'rsd_'\n",
    "    else: path += 'no_rsd_'\n",
    "        \n",
    "    if coords == 6: path += 'rp_pi'\n",
    "    else: path += 'r_mu'\n",
    "        \n",
    "    return file_dir+path+'/corr_data_out/'\n",
    "\n",
    "def get_name(rsd=False, coords=6):\n",
    "    \n",
    "    name = 'data_'\n",
    "    \n",
    "    if rsd: name += 'rsd_'\n",
    "    else: name += 'no_rsd_'\n",
    "        \n",
    "    if coords == 6: name += 'rp_pi'\n",
    "    else: name += 'r_mu'\n",
    "        \n",
    "    return name\n",
    "\n",
    "get_path(file_dir_cross, rsd=False, coords=6), get_name(rsd=False, coords=6)"
   ]
  },
  {
   "cell_type": "code",
   "execution_count": 59,
   "metadata": {},
   "outputs": [],
   "source": [
    "njk=49"
   ]
  },
  {
   "cell_type": "code",
   "execution_count": 60,
   "metadata": {},
   "outputs": [],
   "source": [
    "def check_empty(arr): # True is empty\n",
    "    try:\n",
    "        #print not arr.any()\n",
    "        try:\n",
    "            return not arr.any()\n",
    "        except:\n",
    "            if arr.size!=0: #for rec array\n",
    "                return False\n",
    "            else:\n",
    "                return True\n",
    "    except:\n",
    "        #print not bool(arr)\n",
    "        return not bool(arr) #for other python types, including dictionary"
   ]
  },
  {
   "cell_type": "code",
   "execution_count": 61,
   "metadata": {},
   "outputs": [],
   "source": [
    "def series2grid(series, shape):\n",
    "    return series.to_numpy().reshape(shape)"
   ]
  },
  {
   "cell_type": "code",
   "execution_count": 62,
   "metadata": {},
   "outputs": [],
   "source": [
    "def read_output(home, var=['wgg'], bins2D=False, rsd=False, coords=6):\n",
    "    bins = '_bins2D' if bins2D else '_bins'\n",
    "    name = get_name(rsd=rsd, coords=coords)\n",
    "    # print(name)\n",
    "    return jk_read(dataset=name, var=var,njk=njk, bins=bins, home=get_path(home, rsd=rsd, coords=coords))"
   ]
  },
  {
   "cell_type": "code",
   "execution_count": 63,
   "metadata": {},
   "outputs": [],
   "source": [
    "def read_output_manual(file_path, file_name, var=['wgg, wgp'], bins2D=False):\n",
    "    bins = '_bins2D' if bins2D else '_bins'\n",
    "    return jk_read(dataset=file_name, var=var, njk=njk, bins=bins, home=file_path)"
   ]
  },
  {
   "cell_type": "markdown",
   "metadata": {},
   "source": [
    "## Setup"
   ]
  },
  {
   "cell_type": "code",
   "execution_count": 64,
   "metadata": {},
   "outputs": [],
   "source": [
    "def taper(k=[],pk=[],large_k_lower=10,large_k_upper=30,low_k_lower=1.e-4,low_k_upper=1.e-3):\n",
    "    pk_out=np.copy(pk)\n",
    "    x=k>large_k_lower\n",
    "    pk_out[x]*=np.cos((k[x]-large_k_lower)/(large_k_upper-large_k_lower)*np.pi/2.)\n",
    "    x=k>large_k_upper\n",
    "    pk_out[x]=0\n",
    "    x=k<low_k_upper\n",
    "    pk_out[x]*=np.cos((k[x]-low_k_upper)/(low_k_upper-low_k_lower)*np.pi/2.)\n",
    "    x=k<low_k_lower\n",
    "    pk_out[x]=0\n",
    "    return pk_out"
   ]
  },
  {
   "cell_type": "code",
   "execution_count": 65,
   "metadata": {},
   "outputs": [],
   "source": [
    "def DZ_int(z=[0],cosmo=None,rtol=1.e-4,tol=1.e-5): #linear growth factor.. full integral.. eq 63 in Lahav and suto\n",
    "        Ez_func=cosmo.efunc\n",
    "        def intf(z):\n",
    "            return (1.+z)/(cosmo.H(z=z).value**3)\n",
    "        dz=np.zeros_like(z,dtype='float32')\n",
    "        inf=np.inf\n",
    "        j=0\n",
    "        for i in z:\n",
    "            dz[j]+=cosmo.H(i).value*scipy_int1d(intf,i,inf,epsrel=rtol,epsabs=tol)[0]\n",
    "            j=j+1\n",
    "        dz=dz*2.5*cosmo.Om0*cosmo.H0**2\n",
    "        return dz/dz[0] #check for normalization"
   ]
  },
  {
   "cell_type": "code",
   "execution_count": 66,
   "metadata": {},
   "outputs": [],
   "source": [
    "cosmo = Planck15.clone()\n",
    "cosmo_h = Planck15.clone(H0=100)"
   ]
  },
  {
   "cell_type": "code",
   "execution_count": 67,
   "metadata": {},
   "outputs": [],
   "source": [
    "#set parameters for power spectra computations.\n",
    "kmax=1000\n",
    "kmin=1e-3\n",
    "k_smooth=1\n",
    "nk=8000*4\n",
    "rmin=.1\n",
    "rmax=100\n",
    "non_linear=1"
   ]
  },
  {
   "cell_type": "code",
   "execution_count": 68,
   "metadata": {},
   "outputs": [],
   "source": [
    "cosmo_fid=dict({'h':cosmo.h,'Omb':cosmo.Ob0,'Omd':cosmo.Om0-cosmo.Ob0,'s8':0.817,'Om':cosmo.Om0,\n",
    "                'As':2.12e-09,'mnu':cosmo.m_nu[-1].value,'Omk':cosmo.Ok0,'tau':0.06,'ns':0.965,'w':-1,'wa':0})\n",
    "pk_params={'non_linear':non_linear,'kmax':kmax,'kmin':kmin,'nk':nk}"
   ]
  },
  {
   "cell_type": "code",
   "execution_count": 69,
   "metadata": {},
   "outputs": [],
   "source": [
    "PS = Power_Spectra(cosmo_params=cosmo_fid, pk_params=pk_params)"
   ]
  },
  {
   "cell_type": "code",
   "execution_count": 70,
   "metadata": {},
   "outputs": [],
   "source": [
    "z_mean=0\n",
    "\n",
    "pk,kh =PS.camb_pk(z=[z_mean])\n",
    "pk=taper(k=kh,pk=pk[0])"
   ]
  },
  {
   "cell_type": "code",
   "execution_count": 71,
   "metadata": {},
   "outputs": [],
   "source": [
    "rp=np.linspace(1, 80, 2000)\n",
    "pi=np.linspace(-80, 80, 2000)"
   ]
  },
  {
   "cell_type": "code",
   "execution_count": 72,
   "metadata": {},
   "outputs": [],
   "source": [
    "C1_rhoC = 0.0134\n",
    "Om = cosmo.Om0\n",
    "\n",
    "Dz=DZ_int(z=np.append([0],z_mean),cosmo=cosmo)# Dz is normalized to 1 at lowest z. \n",
    "Dz=Dz[1]/Dz[0]\n",
    "\n",
    "zeta = C1_rhoC * Om / Dz"
   ]
  },
  {
   "cell_type": "code",
   "execution_count": 73,
   "metadata": {},
   "outputs": [],
   "source": [
    "pcr = Projected_Corr_RSD(rp=rp, pi=pi, pi_max=100, l=[0,2,4,6], k=kh,spins=[0,2])"
   ]
  },
  {
   "cell_type": "markdown",
   "metadata": {},
   "source": [
    "### Function that plots correlation function contours given coordinates, data, and number of contours\n",
    "#### figure size is in this function"
   ]
  },
  {
   "cell_type": "code",
   "execution_count": 74,
   "metadata": {},
   "outputs": [],
   "source": [
    "# SS: Moved this cell here. Some func defitions use these values\n",
    "global_rsd = True\n",
    "global_rp_cut = 2\n",
    "global_r_cut = 4.0"
   ]
  },
  {
   "cell_type": "code",
   "execution_count": 75,
   "metadata": {},
   "outputs": [],
   "source": [
    "def plot_corr(rp, pi, xi, cont_levels, func):\n",
    "    \n",
    "    rpG, piG = np.meshgrid(rp, pi)\n",
    "    \n",
    "    figure = plt.figure(figsize=(8, 6))\n",
    "    \n",
    "    xi_cont = figure.add_axes([0.1, 0.1, 0.65, 0.8])\n",
    "    xi_cb = figure.add_axes([0.78, 0.1, 0.02, 0.8])\n",
    "    \n",
    "    xi_cont.set_title('$\\\\xi_{' +func+ '}$', fontsize=16)\n",
    "    xi_cont.set_xlabel('$r_{p}$ (Mpc/h)', fontsize=12)\n",
    "    xi_cont.set_ylabel('$\\\\Pi$ (Mpc/h)')\n",
    "    \n",
    "    # cm = xi_cont.contourf(rpG, piG, xi, levels=cont_levels, norm=mpl.colors.LogNorm(), cmap=mpl.cm.tab20c)\n",
    "    cm = xi_cont.contourf(\n",
    "        np.concatenate((np.fliplr(-rpG), rpG), axis=1), \n",
    "        np.concatenate((piG, piG), axis=1), \n",
    "        np.concatenate((np.fliplr(xi), xi), axis=1), \n",
    "        levels=cont_levels, norm=mpl.colors.LogNorm(), cmap=mpl.cm.tab20c)\n",
    "\n",
    "    \n",
    "    plt.colorbar(cm, cax=xi_cb, format='%.1e')\n",
    "    \n",
    "    xi_cont.grid()\n",
    "    \n",
    "    return xi_cont"
   ]
  },
  {
   "cell_type": "code",
   "execution_count": 76,
   "metadata": {},
   "outputs": [],
   "source": [
    "# First, we set up the most general possible function to mask input data in r-mu\n",
    "def cut_data(rG, muG, xiG, thresh=global_rp_cut):\n",
    "    rpG = rG * np.sqrt(1-muG**2)\n",
    "    mask = rpG >= thresh\n",
    "    return xiG * mask"
   ]
  },
  {
   "cell_type": "code",
   "execution_count": 77,
   "metadata": {},
   "outputs": [],
   "source": [
    "f = 0\n",
    "\n",
    "if global_rsd:\n",
    "    f = cosmo.Om0**.55"
   ]
  },
  {
   "cell_type": "markdown",
   "metadata": {},
   "source": [
    "## Grab data from corr_pc"
   ]
  },
  {
   "cell_type": "code",
   "execution_count": 78,
   "metadata": {},
   "outputs": [],
   "source": [
    "wgp_sim = pd.DataFrame(\n",
    "    read_output(file_dir_cross, var=['wgg', 'wgp'], rsd=global_rsd)['data'][['rp', 'wgg', 'wgg_err', 'wgp', 'wgp_err']])\n",
    "\n",
    "wgg_sim=pd.DataFrame(\n",
    "    read_output(file_dir_auto, var=['wgg'], rsd=global_rsd)['data'][['rp', 'wgg', 'wgg_err']])\n",
    "\n",
    "wgp_cov = read_output(file_dir_cross, var=['wgg', 'wgp'], rsd=global_rsd)['cov']['wgp']\n",
    "\n",
    "wgg_cov = read_output(file_dir_auto, var=['wgg'], rsd=global_rsd)['cov']['wgg']"
   ]
  },
  {
   "cell_type": "markdown",
   "metadata": {},
   "source": [
    "## $ \\xi_{gg} $ and $ w_{gg} $ Calculations"
   ]
  },
  {
   "cell_type": "code",
   "execution_count": 79,
   "metadata": {},
   "outputs": [],
   "source": [
    "rp = np.linspace(2, 25, 500)\n",
    "pi = np.linspace(-25, 25, 1000)"
   ]
  },
  {
   "cell_type": "code",
   "execution_count": 80,
   "metadata": {},
   "outputs": [],
   "source": [
    "def wgg(rp_interp, bg):\n",
    "    \n",
    "    xigg = (bg**2) * pcr.xi_rp_pi(f, bg1=bg, pk=pk, l=[0,2,4], spin=0, rp=rp, pi=pi)\n",
    "    dpi = np.gradient(pi)\n",
    "    \n",
    "    wgg_pts = dpi@xigg\n",
    "    wgg_interp = interp1d(rp, wgg_pts)\n",
    "    \n",
    "    return wgg_interp(rp_interp)"
   ]
  },
  {
   "cell_type": "markdown",
   "metadata": {},
   "source": [
    "#### plots $w_{gg}$ and $\\xi_{gg}$"
   ]
  },
  {
   "cell_type": "code",
   "execution_count": 81,
   "metadata": {},
   "outputs": [
    {
     "data": {
      "text/plain": [
       "<Axes:title={'center':'$\\\\xi_{gg}$'}, xlabel='$r_{p}$ (Mpc/h)', ylabel='$\\\\Pi$ (Mpc/h)'>"
      ]
     },
     "execution_count": 81,
     "metadata": {},
     "output_type": "execute_result"
    },
    {
     "data": {
      "image/png": "[encoded data removed]",
      "text/plain": [
       "<Figure size 576x432 with 1 Axes>"
      ]
     },
     "metadata": {
      "needs_background": "light"
     },
     "output_type": "display_data"
    },
    {
     "data": {
      "image/png": "[encoded data removed]",
      "text/plain": [
       "<Figure size 576x432 with 2 Axes>"
      ]
     },
     "metadata": {
      "needs_background": "light"
     },
     "output_type": "display_data"
    }
   ],
   "source": [
    "# rp_lower_indices = np.argwhere(wgg_sim.rp.to_numpy() < global_rp_cut) #SS: should be > in comparison? < results in null data\n",
    "# cut = np.max(r_lower_indices) #SS: r_lower_indices is not defined\n",
    "\n",
    "rp_lower_indices = np.argwhere(wgg_sim.rp.to_numpy() < global_rp_cut)\n",
    "\n",
    "cut=0\n",
    "\n",
    "if len(rp_lower_indices) > 0:\n",
    "    cut = np.max(rp_lower_indices)\n",
    "\n",
    "wgg_fit = curve_fit(wgg, wgg_sim.rp[cut:], wgg_sim.wgg[cut:], sigma=wgg_sim.wgg_err[cut:])\n",
    "# wgg_fit = curve_fit(wgg, wgg_sim.rp, wgg_sim.wgg, sigma=wgg_cov)\n",
    "\n",
    "# wgg figure size\n",
    "plt.figure(figsize=(8, 6))\n",
    "\n",
    "plt.errorbar(wgg_sim.rp, wgg_sim.wgg, wgg_sim.wgg_err, fmt='o')\n",
    "plt.plot(wgg_sim.rp, wgg(wgg_sim.rp, wgg_fit[0][0]))\n",
    "plt.title(\"$w_{gg}$\", fontsize=16)\n",
    "plt.xlabel(\"$r_p$ (Mpc/h)\")\n",
    "plt.grid(which='major')\n",
    "plt.grid(which='minor', linestyle='--')\n",
    "\n",
    "plt.loglog()\n",
    "\n",
    "# Fitted galaxy bias\n",
    "bias = wgg_fit[0][0]\n",
    "\n",
    "xigg = (bias**2) * pcr.xi_rp_pi(f, bg1=bias, pk=pk, l=[0,2,4], rp=rp, pi=pi)\n",
    "\n",
    "levels = np.logspace(-4, 4, 15)\n",
    "plot_corr(rp, pi, xigg, levels, 'gg')"
   ]
  },
  {
   "cell_type": "markdown",
   "metadata": {},
   "source": [
    "# Refitting for $b_g$ with $\\xi_{gg}^{0}(r)$"
   ]
  },
  {
   "cell_type": "code",
   "execution_count": 82,
   "metadata": {},
   "outputs": [],
   "source": [
    "gg_mono = read_output(file_dir_auto, var=['wgg'], coords=7, rsd=global_rsd)['data'][['rp', 'wgg', 'wgg_err']]"
   ]
  },
  {
   "cell_type": "code",
   "execution_count": 83,
   "metadata": {},
   "outputs": [],
   "source": [
    "def cut_gg_monopole(r, new_bias, thresh=global_rp_cut):\n",
    "    mu = np.linspace(-1, 1, 200)\n",
    "    dmu = np.gradient(mu)\n",
    "    \n",
    "    rG, muG = np.meshgrid(r, mu)\n",
    "    \n",
    "    rpG = np.sqrt(1-muG**2) * rG\n",
    "    \n",
    "    alpha = pcr.alpha(0, f/new_bias, f/new_bias, spin=0)\n",
    "    prefactor = float(alpha) * (new_bias**2)\n",
    "    \n",
    "    r_i, xi_i = pcr.get_xi_multipole(pk=pk, l=[0])\n",
    "    xi_i_interp = np.interp(rG, r_i[0], prefactor * xi_i[0], left=0, right=0)\n",
    "    \n",
    "    xi = xi_i_interp * 1 # Monopole legendre polynomial is just 1 \n",
    "    cut_xi = cut_data(rG, muG, xi, thresh=thresh)\n",
    "    \n",
    "    mono = (dmu @ (cut_xi))\n",
    "    \n",
    "    return mono"
   ]
  },
  {
   "cell_type": "code",
   "execution_count": 84,
   "metadata": {},
   "outputs": [],
   "source": [
    "mono_fit = lambda r, new_bias : cut_gg_monopole(r, new_bias, thresh=global_rp_cut)\n",
    "\n",
    "\n",
    "# set lower bound on r (cut out regions where points are too strongly correlated)\n",
    "r_min = global_r_cut\n",
    "r_lower_indices = np.argwhere(gg_mono['rp'] < r_min)\n",
    "\n",
    "cut=0\n",
    "\n",
    "if len(r_lower_indices) > 0:\n",
    "    cut = np.max(r_lower_indices)\n",
    "\n",
    "monopole_fit = curve_fit(mono_fit, gg_mono['rp'][cut:], gg_mono['wgg'][cut:], sigma=gg_mono['wgg_err'][cut:])\n",
    "\n",
    "bias = monopole_fit[0][0]"
   ]
  },
  {
   "cell_type": "markdown",
   "metadata": {},
   "source": [
    "#### Plots $\\xi_{gg}^{0}(r)$"
   ]
  },
  {
   "cell_type": "code",
   "execution_count": 85,
   "metadata": {},
   "outputs": [
    {
     "data": {
      "image/png": "[encoded data removed]",
      "text/plain": [
       "<Figure size 576x432 with 1 Axes>"
      ]
     },
     "metadata": {
      "needs_background": "light"
     },
     "output_type": "display_data"
    }
   ],
   "source": [
    "plt.figure(figsize=(8, 6))\n",
    "\n",
    "plt.errorbar(gg_mono['rp'], gg_mono['wgg'], gg_mono['wgg_err'], fmt='o')\n",
    "plt.plot(gg_mono['rp'], cut_gg_monopole(gg_mono['rp'], bias))\n",
    "plt.loglog()\n",
    "\n",
    "plt.title('$\\\\xi_{gg}$ Monopole', fontsize=16)\n",
    "plt.xlabel('$r$ (Mpc/h)', fontsize=12)\n",
    "plt.grid()\n",
    "plt.grid(which='minor', linestyle='--')\n",
    "# plt.savefig(\"plots/gg-monopole-fit.png\") #SS: commented out for now, testing code... We should use pdf format"
   ]
  },
  {
   "cell_type": "code",
   "execution_count": 86,
   "metadata": {},
   "outputs": [
    {
     "data": {
      "text/plain": [
       "1.000736416742856"
      ]
     },
     "execution_count": 86,
     "metadata": {},
     "output_type": "execute_result"
    }
   ],
   "source": [
    "bias"
   ]
  },
  {
   "cell_type": "markdown",
   "metadata": {},
   "source": [
    "## $ \\xi_{g+} $ and $ w_{g+} $ Calculations"
   ]
  },
  {
   "cell_type": "code",
   "execution_count": 87,
   "metadata": {},
   "outputs": [],
   "source": [
    "rp = np.linspace(0, 25, 500)\n",
    "pi = np.linspace(-25, 25, 1000)"
   ]
  },
  {
   "cell_type": "code",
   "execution_count": 88,
   "metadata": {},
   "outputs": [],
   "source": [
    "def wgp(rp_interp, ai):\n",
    "    \n",
    "    xigp = ai * zeta * bias * pcr.xi_rp_pi(f, bg1=bias, pk=pk, l=[2,4], spin=2, rp=rp, pi=pi)\n",
    "    dpi = np.gradient(pi)\n",
    "    \n",
    "    wgp_pts = dpi@xigp\n",
    "    wgp_interp = interp1d(rp, wgp_pts)\n",
    "    \n",
    "    return wgp_interp(rp_interp)"
   ]
  },
  {
   "cell_type": "code",
   "execution_count": 89,
   "metadata": {},
   "outputs": [
    {
     "data": {
      "text/plain": [
       "((array([3.63858766]), array([[5.38628965]])), 4.748707627473433)"
      ]
     },
     "execution_count": 89,
     "metadata": {},
     "output_type": "execute_result"
    },
    {
     "data": {
      "image/png": "[encoded data removed]",
      "text/plain": [
       "<Figure size 576x432 with 1 Axes>"
      ]
     },
     "metadata": {
      "needs_background": "light"
     },
     "output_type": "display_data"
    },
    {
     "data": {
      "image/png": "[encoded data removed]",
      "text/plain": [
       "<Figure size 576x432 with 2 Axes>"
      ]
     },
     "metadata": {
      "needs_background": "light"
     },
     "output_type": "display_data"
    }
   ],
   "source": [
    "# enforce rp cut\n",
    "rp_lower_indices = np.argwhere(wgg_sim.rp.to_numpy() < global_rp_cut)\n",
    "cut = np.max(r_lower_indices)\n",
    "\n",
    "wgp_fit = curve_fit(wgp, wgp_sim.rp[cut:], wgp_sim.wgp[cut:], sigma=wgp_cov[cut:,cut:])\n",
    "# wgp_fit = curve_fit(wgp, wgp_sim.rp, wgp_sim.wgp, sigma=wgp_sim.wgp_err)\n",
    "\n",
    "\n",
    "# Fitted alignment parameter\n",
    "ai = wgp_fit[0][0]\n",
    "# print(ai)\n",
    "\n",
    "d = np.array([wgp(wgp_sim.rp, ai)])\n",
    "before = np.sqrt(d@np.linalg.inv(wgp_cov)@d.T)[0][0]\n",
    "\n",
    "xigp = np.array(ai * zeta * bias * pcr.xi_rp_pi(f, bg1=bias, pk=pk, l=[2,4], spin=2, rp=rp, pi=pi))\n",
    "\n",
    "levels = np.logspace(-7, 2, 10)\n",
    "\n",
    "plt.figure(figsize=(8, 6))\n",
    "\n",
    "plt.errorbar(wgp_sim.rp[2:], wgp_sim.wgp[2:], wgp_sim.wgp_err[2:], fmt='o--')\n",
    "plt.plot(wgp_sim.rp, d[0])\n",
    "plt.loglog()\n",
    "plt.grid()\n",
    "plt.grid(which='minor', linestyle='--')\n",
    "\n",
    "plt.title('$w_{g+}$', fontsize=16)\n",
    "plt.xlabel('$r_p$ (Mpc/h)', fontsize=14)\n",
    "# plt.savefig(\"plots/wgp-fit.png\")#SS: commented out for now, testing code... We should use pdf format\n",
    "\n",
    "plot_corr(rp, pi, xigp, levels, 'g+')\n",
    "# plt.savefig(\"plots/xigp-contour.png\")#SS: commented out for now, testing code... We should use pdf format\n",
    "\n",
    "wgp_fit, before"
   ]
  },
  {
   "cell_type": "code",
   "execution_count": 90,
   "metadata": {},
   "outputs": [],
   "source": [
    "def chi_sq(theory_y, data_y):\n",
    "    chi_square = np.sum(((theory_y - data_y)**2)/(theory_y))\n",
    "    return chi_square"
   ]
  },
  {
   "cell_type": "code",
   "execution_count": 91,
   "metadata": {},
   "outputs": [],
   "source": [
    "# f = cosmo.Om0**.55\n",
    "betaD = f / bias"
   ]
  },
  {
   "cell_type": "markdown",
   "metadata": {},
   "source": [
    "# Quadrupole Fitting"
   ]
  },
  {
   "cell_type": "code",
   "execution_count": 92,
   "metadata": {},
   "outputs": [
    {
     "data": {
      "text/plain": [
       "1.000736416742856"
      ]
     },
     "execution_count": 92,
     "metadata": {},
     "output_type": "execute_result"
    }
   ],
   "source": [
    "bias"
   ]
  },
  {
   "cell_type": "code",
   "execution_count": 93,
   "metadata": {},
   "outputs": [
    {
     "data": {
      "text/plain": [
       "0.522390309488522"
      ]
     },
     "execution_count": 93,
     "metadata": {},
     "output_type": "execute_result"
    }
   ],
   "source": [
    "f/bias"
   ]
  },
  {
   "cell_type": "code",
   "execution_count": 94,
   "metadata": {},
   "outputs": [],
   "source": [
    "def calc_quadrupole(rG, muG, xiG):\n",
    "    dmu = np.gradient(muG, axis=0)\n",
    "    aL = associated_legendre(2,2,muG)\n",
    "#     return rG[0], (5/2)*np.sum(dmu*aL*xiG, axis=0)\n",
    "    return rG[0], (5./48.)*np.sum(dmu*aL*xiG, axis=0)"
   ]
  },
  {
   "cell_type": "code",
   "execution_count": 95,
   "metadata": {},
   "outputs": [],
   "source": [
    "def cut_gp_quadrupole(r, new_ai, thresh=global_rp_cut):\n",
    "    mu = np.linspace(-1, 1, 500)\n",
    "    dmu = np.gradient(mu)\n",
    "    \n",
    "    rG, muG = np.meshgrid(r, mu)\n",
    "    \n",
    "    rpG = np.sqrt(1-muG**2) * rG\n",
    "    \n",
    "    alpha = pcr.alpha(2, f/bias, f/bias, spin=2)\n",
    "    prefactor = -1 * float(alpha) * zeta * new_ai * bias\n",
    "    \n",
    "    r_i, xi_i = pcr.get_xi_multipole(pk=pk, l=[2])\n",
    "    xi_i_interp = np.interp(rG, r_i[2], prefactor * xi_i[2], left=0, right=0)\n",
    "    \n",
    "    xi = xi_i_interp * associated_legendre(2,2,muG)\n",
    "    cut_xi = cut_data(rG, muG, xi, thresh=thresh)\n",
    "    \n",
    "    quad = (5./48.) * (dmu @ (cut_xi * associated_legendre(2,2,muG)))\n",
    "    \n",
    "    return quad"
   ]
  },
  {
   "cell_type": "code",
   "execution_count": 96,
   "metadata": {},
   "outputs": [],
   "source": [
    "def chi_sq(r, quad, quad_cov, ai, thresh):\n",
    "    theory = cut_gp_quadrupole(r, ai, thresh=thresh)\n",
    "    resid = np.array([quad - theory]).T\n",
    "    # print((resid@np.linalg.inv(quad_cov)@resid.T))\n",
    "    return (resid.T @ np.linalg.inv(quad_cov) @ resid)\n",
    "\n",
    "def prep_fn(r, quad, quad_cov, thresh):\n",
    "    return lambda ai : chi_sq(r, quad, quad_cov, ai, thresh)"
   ]
  },
  {
   "cell_type": "code",
   "execution_count": 97,
   "metadata": {},
   "outputs": [],
   "source": [
    "# Fits and plots quadrupole with specified lower rp bound, returns SNR and fitted A_I (with variance)\n",
    "from scipy.optimize import minimize\n",
    "from mpl_toolkits.axes_grid1 import make_axes_locatable\n",
    "\n",
    "def fit_quadrupole(rp_lower=0, rsd=False, r_lower=0):\n",
    "    \n",
    "    xigp_jk = read_output(file_dir_cross, var=['wgg', 'wgp'], bins2D=True, rsd=rsd, coords=7)\n",
    "    xigp = pd.DataFrame(read_output(file_dir_cross, \n",
    "                                        var=['wgg', 'wgp'], \n",
    "                                        bins2D=True, rsd=rsd, \n",
    "                                        coords=7)['data'][['rp', 'pi', 'wgg', 'wgg_err', 'wgp', 'wgp_err']]\n",
    "                           ).rename(columns={'rp':'r', 'pi':'mu'})\n",
    "    \n",
    "    shape2 = (len(xigp.r.unique()), len(xigp.mu.unique()))\n",
    "    rG = xigp.r.to_numpy().reshape(shape2).T\n",
    "    muG = xigp.mu.to_numpy().reshape(shape2).T\n",
    "    \n",
    "    r_lower_indices = np.argwhere(rG[0] < r_lower)\n",
    "    r_cut = None\n",
    "    if r_lower_indices.size == 0:\n",
    "        r_cut = 0\n",
    "    else:\n",
    "        r_cut = np.max(r_lower_indices)\n",
    "\n",
    "    b = {}\n",
    "    c = []\n",
    "    \n",
    "    def get_box_quad(xigp_jk, i):\n",
    "        box = xigp_jk[i]\n",
    "        box_xigpG = cut_data(rG, muG, box['wgp'].reshape(shape2).T, thresh=rp_lower)\n",
    "        \n",
    "        r, quad = calc_quadrupole(rG, muG, box_xigpG)\n",
    "        return r[r_cut:], quad[r_cut:]\n",
    "\n",
    "    for i in np.arange(njk):\n",
    "        box_r, box_quad = get_box_quad(xigp_jk, i)\n",
    "        b[i] = box_quad\n",
    "        \n",
    "    cc = cov_corr()\n",
    "    b['cov'], b['corr'] = cc.dict_cov(dic=b,stack=1)\n",
    "    b['cov']*= (njk-1)\n",
    "    \n",
    "    # print(np.linalg.eigvals(b['cov']))\n",
    "    \n",
    "    fit_fn = lambda r, new_ai : cut_gp_quadrupole(r, new_ai, thresh=rp_lower)\n",
    "        \n",
    "    for i in np.arange(njk):\n",
    "        box_r, box_quad = get_box_quad(xigp_jk, i)\n",
    "        c.append(curve_fit(fit_fn, box_r, box_quad, sigma=np.sqrt(np.diag(b['cov'])))[0][0])\n",
    "#         c.append(minimize(prep_fn(box_r, box_quad, b['cov'], rp_lower), before)['x'][0])\n",
    "    \n",
    "    ai_var = np.var(c)\n",
    "    ai_var *= (njk-1)\n",
    "\n",
    "    xigpG = xigp.wgp.to_numpy().reshape(shape2).T\n",
    "\n",
    "    rq, q = calc_quadrupole(rG, muG, cut_data(rG, muG, xigpG, thresh=rp_lower))\n",
    "    rq = rq[r_cut:]\n",
    "    q = q[r_cut:]\n",
    "\n",
    "#     quad_ai, pcov = curve_fit(fit_fn, rq, q, sigma=np.sqrt(np.diag(b['cov'])), absolute_sigma=True)\n",
    "#     fit = minimize(prep_fn(rq, q, b['cov'], rp_lower), before)\n",
    "#     print(fit)\n",
    "    \n",
    "    # Eigenvector decomposition\n",
    "    # Reconstruct with 3 largest eigvals\n",
    "    # Profit!\n",
    "    \n",
    "    variances = np.array([np.diag(b['cov'])])\n",
    "    norm = np.sqrt(variances.T @ variances)\n",
    "    \n",
    "    mat = b['cov'] / norm\n",
    "    \n",
    "    num_vals = 3\n",
    "    diag = np.diag(mat)\n",
    "    \n",
    "    mat =  mat - np.diag(diag)\n",
    "    \n",
    "    eigen = np.linalg.eig(mat)\n",
    "    vals = eigen[0]\n",
    "    vecs = eigen[1]\n",
    "    # print(vecs)\n",
    "    \n",
    "    # print(vals, vecs)\n",
    "    \n",
    "    recon = np.zeros(mat.shape)\n",
    "    for i in range(num_vals):\n",
    "        vec = np.c_[vecs[:,i]]\n",
    "        recon += vals[i] * (vec @ vec.T)\n",
    "        \n",
    "    recon += np.diag(diag)\n",
    "    recon *= norm\n",
    "    \n",
    "    # print(b['cov'] / recon)\n",
    "    \n",
    "    # quad_ai, pcov = curve_fit(fit_fn, rq, q, sigma=b['cov'])\n",
    "    quad_ai, pcov = curve_fit(fit_fn, rq, q, sigma=recon)\n",
    "    \n",
    "    qt = np.array([cut_gp_quadrupole(rq, quad_ai, thresh=rp_lower)])\n",
    "    rt = np.linspace(r_lower-1, 25, 250)\n",
    "    qft = np.array([cut_gp_quadrupole(rt, quad_ai, thresh=rp_lower)])\n",
    "    \n",
    "    plt.figure(figsize=(8, 6))\n",
    "    \n",
    "    plt.errorbar(rq, q, np.sqrt(np.diag(b['cov'])), fmt='o', label=\"data\")\n",
    "    plt.plot(rt, qft[0], label=\"theory\")\n",
    "    plt.loglog()\n",
    "    plt.grid()\n",
    "    plt.grid(which='minor', linestyle='--')\n",
    "    plt.legend()\n",
    "    \n",
    "    plt.title('$\\\\xi_{g+}^4(r)$' + '\\t $r_p$ cut: ' + str(rp_lower) + \"(Mpc/h) \\t $r$ cut: \" + str(r_lower) + \"(Mpc/h) \\t RSD: \" + str(rsd), fontsize=12)\n",
    "\n",
    "    \n",
    "    \n",
    "    # Commented out diagnostics to just plot quadrupole. Uncomment for diagnostic plots\n",
    "\n",
    "    \"\"\"\n",
    "    fig, axs = plt.subplot_mosaic([[\"tl\", \"tr\"],[\"b\", \"b\"]], figsize=(8, 8))\n",
    "    fig.tight_layout(pad=5)\n",
    "        \n",
    "    # print(eigen[0])\n",
    "    \n",
    "    corr_mat = axs['tl'].pcolor(b['cov'] / norm, edgecolors=\"k\", linewidths=2, cmap=mpl.cm.coolwarm, vmax=1, vmin=-1)\n",
    "    axs['tl'].set_title(\"Correlation Matrix\")\n",
    "    divider = make_axes_locatable(axs['tl'])\n",
    "    \n",
    "    cax = divider.append_axes('right', size='4%', pad=0.04)\n",
    "    fig.colorbar(corr_mat, cax=cax, orientation='vertical')\n",
    "    \n",
    "    axs['tr'].plot(rq, variances[0])\n",
    "    axs['tr'].loglog()\n",
    "    axs['tr'].grid()\n",
    "    axs['tr'].set_title(\"$\\sigma^2(r)$\")\n",
    "    axs['tr'].set_xlabel(\"$r$ (Mpc/h)\")\n",
    "\n",
    "    qt = np.array([cut_gp_quadrupole(rq, quad_ai, thresh=rp_lower)])\n",
    "#     qt = np.array([cut_gp_quadrupole(rq, 1.86, thresh=rp_lower)])\n",
    "    \n",
    "    rt = np.linspace(r_lower-1, 25, 250)\n",
    "    qft = np.array([cut_gp_quadrupole(rt, quad_ai, thresh=rp_lower)])\n",
    "    \n",
    "#     print(np.sum(((q-qt)/(np.sqrt(np.diag(b['cov']))))**2))\n",
    "#     print((q-qt)@np.linalg.inv(b['cov'])@(q-qt).T)\n",
    "\n",
    "    axs['b'].errorbar(rq, q, np.sqrt(np.diag(b['cov'])), fmt='o', label=\"data\")\n",
    "    axs['b'].plot(rt, qft[0], label=\"theory\")\n",
    "    axs['b'].loglog()\n",
    "    axs['b'].grid()\n",
    "    axs['b'].grid(which='minor', linestyle='--')\n",
    "    axs['b'].legend()\n",
    "\n",
    "    axs['b'].set_title('$\\\\xi_{g+}^{4}(r)$')\n",
    "    axs['b'].set_xlabel('$r$ (Mpc/h)')\n",
    "    # axs['b'].axvline(x=r_lower)\n",
    "    \n",
    "    fig.suptitle('$r_p$ cut: ' + str(rp_lower) + \"(Mpc/h) \\t $r$ cut: \" + str(r_lower) + \"(Mpc/h) \\t RSD: \" + str(rsd), fontsize=16)\n",
    "    plt.subplots_adjust(top=0.9)\n",
    "    \"\"\"\n",
    "\n",
    "    snr = np.sqrt(qt @ np.linalg.inv(b['cov']) @ qt.T)\n",
    "    print( \"Alignment Parameter + Variance: \" + str((quad_ai[0], ai_var)), \"SNR: \" + str(snr[0][0]) )\n",
    "    return snr[0][0]"
   ]
  },
  {
   "cell_type": "code",
   "execution_count": 98,
   "metadata": {},
   "outputs": [
    {
     "name": "stdout",
     "output_type": "stream",
     "text": [
      "Alignment Parameter + Variance: (3.663534835262815, 0.6066709733310375) SNR: 6.158316968170791\n"
     ]
    },
    {
     "data": {
      "image/png": "[encoded data removed]",
      "text/plain": [
       "<Figure size 576x432 with 1 Axes>"
      ]
     },
     "metadata": {
      "needs_background": "light"
     },
     "output_type": "display_data"
    }
   ],
   "source": [
    "after = fit_quadrupole(rp_lower=global_rp_cut, rsd=global_rsd, r_lower=global_r_cut)\n",
    "# plt.savefig(\"plots/quadrupole-fit.png\")#SS: commented out for now, testing code... We should use pdf format"
   ]
  },
  {
   "cell_type": "code",
   "execution_count": 99,
   "metadata": {},
   "outputs": [
    {
     "name": "stdout",
     "output_type": "stream",
     "text": [
      "Alignment Parameter + Variance: (2.020975114840073, 0.22382825132912101) SNR: 6.095070492376147\n"
     ]
    },
    {
     "data": {
      "text/plain": [
       "6.095070492376147"
      ]
     },
     "execution_count": 99,
     "metadata": {},
     "output_type": "execute_result"
    },
    {
     "data": {
      "image/png": "[encoded data removed]",
      "text/plain": [
       "<Figure size 576x432 with 1 Axes>"
      ]
     },
     "metadata": {
      "needs_background": "light"
     },
     "output_type": "display_data"
    }
   ],
   "source": [
    "fit_quadrupole(rp_lower=2, rsd=global_rsd, r_lower=2)"
   ]
  },
  {
   "cell_type": "code",
   "execution_count": 100,
   "metadata": {},
   "outputs": [],
   "source": [
    "def chi_sq_plot(ai_lower, ai_upper, num, r_lower, rp_lower, rsd):\n",
    "    test_vals = np.linspace(ai_lower, ai_upper, num)\n",
    "    \n",
    "    xigp_jk = read_output(file_dir_cross, var=['wgg', 'wgp'], bins2D=True, rsd=rsd, coords=7)\n",
    "    xigp = pd.DataFrame(read_output(file_dir_cross, \n",
    "                                        var=['wgg', 'wgp'], \n",
    "                                        bins2D=True, rsd=rsd, \n",
    "                                        coords=7)['data'][['rp', 'pi', 'wgg', 'wgg_err', 'wgp', 'wgp_err']]\n",
    "                           ).rename(columns={'rp':'r', 'pi':'mu'})\n",
    "    \n",
    "    shape2 = (len(xigp.r.unique()), len(xigp.mu.unique()))\n",
    "    rG = xigp.r.to_numpy().reshape(shape2).T\n",
    "    muG = xigp.mu.to_numpy().reshape(shape2).T\n",
    "    \n",
    "    r_lower_indices = np.argwhere(rG[0] < r_lower)\n",
    "    r_cut = None\n",
    "    if r_lower_indices.size == 0:\n",
    "        r_cut = 0\n",
    "    else:\n",
    "        r_cut = np.max(r_lower_indices)\n",
    "\n",
    "    b = {}\n",
    "    \n",
    "    def get_box_quad(xigp_jk, i):\n",
    "        box = xigp_jk[i]\n",
    "        box_xigpG = cut_data(rG, muG, box['wgp'].reshape(shape2).T, thresh=rp_lower)\n",
    "        \n",
    "        r, quad = calc_quadrupole(rG, muG, box_xigpG)\n",
    "        return r[r_cut:], quad[r_cut:]\n",
    "\n",
    "    for i in np.arange(njk):\n",
    "        box_r, box_quad = get_box_quad(xigp_jk, i)\n",
    "        b[i] = box_quad\n",
    "        \n",
    "    cc = cov_corr()\n",
    "    b['cov'], b['corr'] = cc.dict_cov(dic=b,stack=1)\n",
    "    b['cov']*= (njk-1)\n",
    "    \n",
    "    xigpG = xigp.wgp.to_numpy().reshape(shape2).T\n",
    "    \n",
    "    rq, q = calc_quadrupole(rG, muG, cut_data(rG, muG, xigpG, thresh=rp_lower))\n",
    "    rq = rq[r_cut:]\n",
    "    q = q[r_cut:]\n",
    "    \n",
    "    chi_sqs = []\n",
    "    diag_chi_sqs = []\n",
    "    \n",
    "    for test_ai in test_vals:\n",
    "        qt = np.array([cut_gp_quadrupole(rq, test_ai, thresh=rp_lower)])\n",
    "        chi_sq = (q-qt)@np.linalg.inv(b['cov'])@(q-qt).T\n",
    "        diag_chi_sq = np.sum(((q-qt)/(np.sqrt(np.diag(b['cov']))))**2)\n",
    "        chi_sqs.append(chi_sq[0][0])\n",
    "        diag_chi_sqs.append(diag_chi_sq)\n",
    "        \n",
    "    plt.plot(test_vals, chi_sqs, label=\"full\")\n",
    "    plt.plot(test_vals, diag_chi_sqs, label=\"diagonals\")\n",
    "    plt.legend()\n",
    "    plt.xlabel(\"$A_I$\", fontsize=16)\n",
    "    plt.ylabel(\"$\\chi^2$\", fontsize=16)\n",
    "    plt.title(\"$r_p$ cut at \" + str(rp_lower) + \", and $r$ cut at \" + str(r_lower))\n",
    "    #plt.loglog()"
   ]
  },
  {
   "cell_type": "code",
   "execution_count": 101,
   "metadata": {},
   "outputs": [
    {
     "data": {
      "text/plain": [
       "[]"
      ]
     },
     "execution_count": 101,
     "metadata": {},
     "output_type": "execute_result"
    },
    {
     "data": {
      "image/png": "[encoded data removed]",
      "text/plain": [
       "<Figure size 432x288 with 1 Axes>"
      ]
     },
     "metadata": {
      "needs_background": "light"
     },
     "output_type": "display_data"
    }
   ],
   "source": [
    "chi_sq_plot(-5, 10, 100, r_lower=0, rp_lower=global_rp_cut, rsd=global_rsd)\n",
    "plt.loglog()"
   ]
  },
  {
   "cell_type": "code",
   "execution_count": 102,
   "metadata": {},
   "outputs": [
    {
     "data": {
      "text/plain": [
       "[]"
      ]
     },
     "execution_count": 102,
     "metadata": {},
     "output_type": "execute_result"
    },
    {
     "data": {
      "image/png": "[encoded data removed]",
      "text/plain": [
       "<Figure size 432x288 with 1 Axes>"
      ]
     },
     "metadata": {
      "needs_background": "light"
     },
     "output_type": "display_data"
    }
   ],
   "source": [
    "chi_sq_plot(-2, 10, 100, r_lower=4, rp_lower=2, rsd=global_rsd)\n",
    "plt.loglog()"
   ]
  },
  {
   "cell_type": "code",
   "execution_count": 103,
   "metadata": {},
   "outputs": [
    {
     "data": {
      "text/plain": [
       "1.2968406251296936"
      ]
     },
     "execution_count": 103,
     "metadata": {},
     "output_type": "execute_result"
    }
   ],
   "source": [
    "after/before"
   ]
  },
  {
   "cell_type": "code",
   "execution_count": null,
   "metadata": {},
   "outputs": [],
   "source": []
  },
  {
   "cell_type": "code",
   "execution_count": null,
   "metadata": {},
   "outputs": [],
   "source": []
  }
 ],
 "metadata": {
  "kernelspec": {
   "display_name": "model",
   "language": "python",
   "name": "model"
  },
  "language_info": {
   "codemirror_mode": {
    "name": "ipython",
    "version": 3
   },
   "file_extension": ".py",
   "mimetype": "text/x-python",
   "name": "python",
   "nbconvert_exporter": "python",
   "pygments_lexer": "ipython3",
   "version": "3.10.4"
  }
 },
 "nbformat": 4,
 "nbformat_minor": 4
}
